{
  "nbformat": 4,
  "nbformat_minor": 0,
  "metadata": {
    "colab": {
      "name": "Python para Data Science - Introdução ao Numpy.ipynb",
      "provenance": [],
      "collapsed_sections": [],
      "authorship_tag": "ABX9TyOMhX5T56bDeFkgzhon9HCE"
    },
    "kernelspec": {
      "name": "python3",
      "display_name": "Python 3"
    },
    "language_info": {
      "name": "python"
    }
  },
  "cells": [
    {
      "cell_type": "markdown",
      "metadata": {
        "id": "COXeBoEwdFP2"
      },
      "source": [
        "# Conhecendo o Numpy\n",
        "\n",
        "#### Numpy é a breviação de Numerical Python. Ele é um pacote poderoso e uito importante, utilizado para processamento numérico em Python.\n",
        "\n",
        "#### Alguns dos destaques desse poderoso pacote são:\n",
        "\n",
        "#### **> Objeto array multidimensional muito poderoso e performático**\n",
        "#### **> Funções matemáticas para operações com arrays sem a necessidade de utilizar o laço** *for* \n",
        "#### **> Recursos de algebra linear para gerar números aleatórios**\n",
        "#### **> Também pode ser aplicado com computação quântica, aplicação de modelos estatísticos, processamento de imagens e muitas outras funcionalidades**\n",
        "\n",
        "# **Documentação:** https://numpy.org/"
      ]
    },
    {
      "cell_type": "markdown",
      "metadata": {
        "id": "xXswe6AMgtAF"
      },
      "source": [
        "# Importando o Numpy\n",
        "\n",
        "#### Para importar o pacote numpy, ou qualquer pacote que já esteja disponível em seu notebook, basta utiliar o *import* e em seguida o nome do pacote."
      ]
    },
    {
      "cell_type": "code",
      "metadata": {
        "id": "dkUH2AT-c0wq"
      },
      "source": [
        "# Por questões de boas práticas, a comunidade faz o uso de alguns apelidos para alguns pacotes. \n",
        "# No caso do numpy utilizamos o \"np\"\n",
        "# para associar o apelido ao pacote, pasta utilizar o \"as\" para realizar a associação\n",
        "\n",
        "import numpy as np"
      ],
      "execution_count": 1,
      "outputs": []
    },
    {
      "cell_type": "markdown",
      "metadata": {
        "id": "ym8Gmi3evuPA"
      },
      "source": [
        "# Criando uma array Numpy"
      ]
    },
    {
      "cell_type": "code",
      "metadata": {
        "colab": {
          "base_uri": "https://localhost:8080/"
        },
        "id": "iEBqJZKjmCMe",
        "outputId": "11facc66-3fb1-4715-c068-61a40c3771f9"
      },
      "source": [
        "# Para criar um array a partir de valores de sua preferência, basta utilizar o \"np.array\".\n",
        "# Vamos utilizar a sequência de números a seguir no exemplo: 1000, 2365, 2300, 5500\n",
        "\n",
        "np.array([1000, 2365, 2300, 5500])\n",
        "\n",
        "# Você pode assiciar o array a uma variável. Vamos pensar esses valores são quilometragens.\n",
        "\n",
        "km = np.array([1000, 2365, 2300, 5500])\n",
        "\n",
        "# Agora, ao chamar a variável km, podemos acessar o nosso array\n",
        "\n",
        "km"
      ],
      "execution_count": null,
      "outputs": [
        {
          "output_type": "execute_result",
          "data": {
            "text/plain": [
              "array([1000, 2365, 2300, 5500])"
            ]
          },
          "metadata": {
            "tags": []
          },
          "execution_count": 2
        }
      ]
    },
    {
      "cell_type": "markdown",
      "metadata": {
        "id": "RuHRJdTak73s"
      },
      "source": [
        "# Método *arange*\n",
        "\n",
        "#### > O método arange serve para criar um array numpy. Com esse método, basta passar um valor por parâmetro ele criará um array com uma sequêcnia de valores correspondes ao número que foi fornecido.\n",
        "\n",
        "#### Veja abaixo um exemplo de aplicação.\n",
        "\n",
        "#### Para mais detalhes, acesse: https://numpy.org/doc/stable/reference/generated/numpy.arange.html"
      ]
    },
    {
      "cell_type": "code",
      "metadata": {
        "colab": {
          "base_uri": "https://localhost:8080/"
        },
        "id": "VIVCIet0isaE",
        "outputId": "e3808f43-8c49-48b7-e2ca-fb8ade98e842"
      },
      "source": [
        "# Aqui podemos ver que ele criou um array com 10 elementos de 0 até 9.\n",
        "\n",
        "np.arange(10)"
      ],
      "execution_count": null,
      "outputs": [
        {
          "output_type": "execute_result",
          "data": {
            "text/plain": [
              "array([0, 1, 2, 3, 4, 5, 6, 7, 8, 9])"
            ]
          },
          "metadata": {
            "tags": []
          },
          "execution_count": 3
        }
      ]
    },
    {
      "cell_type": "markdown",
      "metadata": {
        "id": "_CRjIb3m1DZm"
      },
      "source": [
        "# Utilizando o *loadtxt* para utilizar um dado externo\n",
        "\n",
        "#### Para mais detalhes, acesse: https://numpy.org/doc/stable/reference/generated/numpy.loadtxt.html"
      ]
    },
    {
      "cell_type": "code",
      "metadata": {
        "id": "1MTNBZOO0hHG"
      },
      "source": [
        "# Para importar um arquivo para o google colaboratory, vamos utilizar o método 'files'\n",
        "# Este método está presente no pacote do google.colab\n",
        "\n",
        "#from google.colab import files\n",
        "\n",
        "#files.upload()"
      ],
      "execution_count": null,
      "outputs": []
    },
    {
      "cell_type": "code",
      "metadata": {
        "colab": {
          "base_uri": "https://localhost:8080/"
        },
        "id": "4CcHwrwx46hm",
        "outputId": "de8632de-0ab4-4e44-c7bd-487440f5ce0a"
      },
      "source": [
        "# fname > Parâmetro que indica qual arquivo eu quero carregar.\n",
        "# dtype > informa o tipo da variável que queremos. \n",
        "# É importante definir o tipo. Por padrão, o numpay define o valor como float\n",
        "\n",
        "km = np.loadtxt(fname='carros-km.txt', dtype= int)\n",
        "km"
      ],
      "execution_count": null,
      "outputs": [
        {
          "output_type": "execute_result",
          "data": {
            "text/plain": [
              "array([ 44410,   5712,  37123,      0,  25757,  10728,      0,  77599,\n",
              "        99197,  37978,  12859,   8052,  89773,      0,  41457, 115607,\n",
              "        46449,      0,  37086,  15173, 101193,      0,  98079, 102959,\n",
              "            0,      0,   5795,      0,  58848,  94381,  30163,  53332,\n",
              "        17720,  33808,  90684,  43975,      0,      0,   5526,      0,\n",
              "        93415,  40762,      0,  86302,      0,   9755,  69945,   2395,\n",
              "            0,  80349,  85554,  50496,  67716,  93947,  35345,  81007,\n",
              "       119513,      0,      0,      0,      0,      0, 118895,  48509,\n",
              "       100912,  95649,      0,  90495,      0,  29132,  23802,  84992,\n",
              "        54395,  26731,  44329, 118236, 113808,    610,      0,      0,\n",
              "        12887,  79607,  90924,  42733,      0,      0, 117714, 113885,\n",
              "            0,  30511,  74867, 119760,   8356,  64247,  88661,   4539,\n",
              "       110116,  33215,  92001,      0,  81708,  70641,      0,  91277,\n",
              "        26544,  52596,  47503,  89056,  28834, 110564,  56638,  17357,\n",
              "        74015,  15196,      0,  10821,      0,      0,   9595,  99052,\n",
              "        52389, 119945,  96005,  31639,      0,  80187,      0,  58212,\n",
              "        61672,  32017,      0,  56944,      0,  86519,   4821, 101025,\n",
              "        30705,      0,  32555, 103389,      0,  55289,      0,      0,\n",
              "       115930,  66437,  96800,  14237,  19896, 113045, 114942,   3173,\n",
              "        83611,  25356,  88634,   2314,   2627,  52034,      0,      0,\n",
              "        79577, 108201,  76453,  57683,  96610, 109001,  26212,  45971,\n",
              "        49182,  49907,  38620,  60996,  73914, 107392,   9146,      0,\n",
              "        17924,      0, 116949,  20476,  52804,   8849,  91724,  32056,\n",
              "        74886,      0,      0,  52189,  83559,      0,  20328,      0,\n",
              "        75577,  33659, 104341,  25510,  18965,  87161,   6652,  55738,\n",
              "            0,      0,      0,  64320,      0,  68678,  71697,      0,\n",
              "        34783,  33772,  85127,  13606,  35647,  95128,  14046,  41194,\n",
              "            0,  96100, 103900,  43814,  24638,      0, 110966,  15987,\n",
              "        53369,  10077,  71544,    107,   8394,  41498, 116002, 100858,\n",
              "        67475,   8497,   4420,      0,  58537,      0,      0, 112016,\n",
              "        91840, 112787,      0,      0,   9293,      0,  55083,  48796,\n",
              "            0,  89685,  85384,  98108,  71280,  27505,  29981,  52637,\n",
              "         7685,  50188])"
            ]
          },
          "metadata": {
            "tags": []
          },
          "execution_count": 5
        }
      ]
    },
    {
      "cell_type": "markdown",
      "metadata": {
        "id": "Xyaug5SeAQVb"
      },
      "source": [
        "# Comparando desempenho\n",
        "\n",
        "## numpy array   X   python list\n",
        "\n"
      ]
    },
    {
      "cell_type": "code",
      "metadata": {
        "id": "vgSBcXC-AK0U"
      },
      "source": [
        "# Criando um array numpy com 1 milhão de elementos\n",
        "\n",
        "numpy_array = np.arange(1000000)"
      ],
      "execution_count": null,
      "outputs": []
    },
    {
      "cell_type": "code",
      "metadata": {
        "id": "C_VBZddOkfFe"
      },
      "source": [
        "# Criando uma lista do python com 1 milhão de elementos\n",
        "\n",
        "python_list = list(range(1000000))"
      ],
      "execution_count": null,
      "outputs": []
    },
    {
      "cell_type": "code",
      "metadata": {
        "colab": {
          "base_uri": "https://localhost:8080/"
        },
        "id": "6Yf3gXbSkiuk",
        "outputId": "e6b6fd04-35ab-4dde-dc6a-f25e64504619"
      },
      "source": [
        "# %time Calcula o tempode execução da linha de código\n",
        "\n",
        "%time for _ in range(100): numpy_array *= 2"
      ],
      "execution_count": null,
      "outputs": [
        {
          "output_type": "stream",
          "text": [
            "CPU times: user 71.7 ms, sys: 0 ns, total: 71.7 ms\n",
            "Wall time: 75.3 ms\n"
          ],
          "name": "stdout"
        }
      ]
    },
    {
      "cell_type": "code",
      "metadata": {
        "colab": {
          "base_uri": "https://localhost:8080/"
        },
        "id": "5k70wXsdki1r",
        "outputId": "b95fa70d-6657-4e1f-95d9-1d2f356c787c"
      },
      "source": [
        "%time for _ in range(100): python_list = [x * 2 for x in python_list]"
      ],
      "execution_count": null,
      "outputs": [
        {
          "output_type": "stream",
          "text": [
            "CPU times: user 9.34 s, sys: 1.94 s, total: 11.3 s\n",
            "Wall time: 11.4 s\n"
          ],
          "name": "stdout"
        }
      ]
    },
    {
      "cell_type": "markdown",
      "metadata": {
        "id": "pMdHvL5jl-f1"
      },
      "source": [
        "# Podemos ver que para trablhar com grandes quantidades de valores, o array do numpy é muito mais performático do que a lista do Python"
      ]
    },
    {
      "cell_type": "markdown",
      "metadata": {
        "id": "Qsy8C7X2ynaY"
      },
      "source": [
        "#### Para mais informações sobre arrays do numpy, acesse a documentação no link abaixo: https://numpy.org/devdocs/user/basics.creation.html"
      ]
    },
    {
      "cell_type": "markdown",
      "metadata": {
        "id": "6KGWvg-jyojp"
      },
      "source": [
        "# Operações com arrays"
      ]
    },
    {
      "cell_type": "code",
      "metadata": {
        "id": "kP8xIK_Uyrfi"
      },
      "source": [
        "# Abaixo temos duas listas. Uma possui valores de KM e o outro corresponde ao ano de fabricação de um veículo.\n",
        "\n",
        "km = [55511, 6813, 48234, 0, 36868]\n",
        "anos = [2004, 1992, 1991, 2019, 2008]"
      ],
      "execution_count": null,
      "outputs": []
    },
    {
      "cell_type": "code",
      "metadata": {
        "colab": {
          "base_uri": "https://localhost:8080/"
        },
        "id": "DIt6f37ozPVh",
        "outputId": "e9612403-6e84-4284-e335-412dbc546a90"
      },
      "source": [
        "# Vamos descobrir a aidade de cada veículo.\n",
        "\n",
        "# uma das formas de encontrar a idade de cada veículo utilizando uma lista do Python, é utilizando o for. \n",
        "\n",
        "for i in range(len(anos)):\n",
        "  print(f'A idade do veículo em 2021 é: {2021 - anos[i]} anos')"
      ],
      "execution_count": null,
      "outputs": [
        {
          "output_type": "stream",
          "text": [
            "A idade do veículo em 2021 é: 17 anos\n",
            "A idade do veículo em 2021 é: 29 anos\n",
            "A idade do veículo em 2021 é: 30 anos\n",
            "A idade do veículo em 2021 é: 2 anos\n",
            "A idade do veículo em 2021 é: 13 anos\n"
          ],
          "name": "stdout"
        }
      ]
    },
    {
      "cell_type": "code",
      "metadata": {
        "id": "tOyvor401Mja"
      },
      "source": [
        "# Agora vamos descobrir a idade dos veículos utilizando o array do numpy.\n",
        "\n",
        "km = np.array([55511, 6813, 48234, 15, 36868])\n",
        "anos = np.array([2004, 1992, 1991, 2019, 2008])"
      ],
      "execution_count": null,
      "outputs": []
    },
    {
      "cell_type": "code",
      "metadata": {
        "colab": {
          "base_uri": "https://localhost:8080/"
        },
        "id": "WEltPeMf1mD4",
        "outputId": "bda376c7-d160-44a0-d449-5bde7b74d368"
      },
      "source": [
        "# Com o array do Numpy, a operação fica muito mais simples. Veja no exemplo.\n",
        "\n",
        "idade_do_veiculo = 2021 - anos\n",
        "idade_do_veiculo\n",
        "\n",
        "# Como podemos ver acima, a lista do Python não suporta, por exemplo, operações entre um inteiro e uma lista. \n",
        "# Por outro lado, o array do Numpy possui suporte para esse tipo de operação, facilitado e simplificado o código."
      ],
      "execution_count": null,
      "outputs": [
        {
          "output_type": "execute_result",
          "data": {
            "text/plain": [
              "array([17, 29, 30,  2, 13])"
            ]
          },
          "metadata": {
            "tags": []
          },
          "execution_count": 13
        }
      ]
    },
    {
      "cell_type": "code",
      "metadata": {
        "colab": {
          "base_uri": "https://localhost:8080/"
        },
        "id": "m9Z4MGig20y1",
        "outputId": "8177b204-ce20-40f5-b541-c6e4aad6943f"
      },
      "source": [
        "# Também é possível realizar operações entre os arrays do Numpy. Vamos descobrir a KM média dos veículos.\n",
        "\n",
        "km_media = (km / idade_do_veiculo).round(2)\n",
        "km_media"
      ],
      "execution_count": null,
      "outputs": [
        {
          "output_type": "execute_result",
          "data": {
            "text/plain": [
              "array([3265.35,  234.93, 1607.8 ,    7.5 , 2836.  ])"
            ]
          },
          "metadata": {
            "tags": []
          },
          "execution_count": 14
        }
      ]
    },
    {
      "cell_type": "code",
      "metadata": {
        "colab": {
          "base_uri": "https://localhost:8080/"
        },
        "id": "Jti8wYMp4fm8",
        "outputId": "cb1cc91e-ccbc-410b-da31-ad7f0532626e"
      },
      "source": [
        "# Para alcançar o mesmo resultado com a lista do Python, temos que pegar um caminho mais complexo.\n",
        "\n",
        "km_M = []\n",
        "idade_V = []\n",
        "\n",
        "for i in range(len(anos)):\n",
        "  idade_V.append(2021 - anos[i])\n",
        "for i in range(len(idade_V)):\n",
        "  print(f'{(km[i] / idade_V[i]):.2f}')\n"
      ],
      "execution_count": null,
      "outputs": [
        {
          "output_type": "stream",
          "text": [
            "3265.35\n",
            "234.93\n",
            "1607.80\n",
            "7.50\n",
            "2836.00\n"
          ],
          "name": "stdout"
        }
      ]
    },
    {
      "cell_type": "markdown",
      "metadata": {
        "id": "UXZfeUUrKBWI"
      },
      "source": [
        "# Arrays de duas dimensões"
      ]
    },
    {
      "cell_type": "code",
      "metadata": {
        "colab": {
          "base_uri": "https://localhost:8080/"
        },
        "id": "mWWXBncNKJvA",
        "outputId": "3c7a5ba7-84f5-433b-cb8e-353d876f49a5"
      },
      "source": [
        "# Podemos criar facilmente um array com uma ou mais listas em seu interior.\n",
        "\n",
        "dados = np.array([km, anos])\n",
        "dados"
      ],
      "execution_count": null,
      "outputs": [
        {
          "output_type": "execute_result",
          "data": {
            "text/plain": [
              "array([[55511,  6813, 48234,     0, 36868],\n",
              "       [ 2004,  1992,  1991,  2019,  2008]])"
            ]
          },
          "metadata": {
            "tags": []
          },
          "execution_count": 4
        }
      ]
    },
    {
      "cell_type": "code",
      "metadata": {
        "colab": {
          "base_uri": "https://localhost:8080/"
        },
        "id": "fEv88AUYOdPc",
        "outputId": "425f51d9-a941-4298-ecc8-fe8fc6dcddf1"
      },
      "source": [
        "# Para realizar o acesso aos elementos do array, basta passar o índice.\n",
        "\n",
        "dados[0] # Nesse caso acessamos a lista correspondente à quilometragem"
      ],
      "execution_count": null,
      "outputs": [
        {
          "output_type": "execute_result",
          "data": {
            "text/plain": [
              "array([55511,  6813, 48234,    15, 36868])"
            ]
          },
          "metadata": {
            "tags": []
          },
          "execution_count": 26
        }
      ]
    },
    {
      "cell_type": "code",
      "metadata": {
        "colab": {
          "base_uri": "https://localhost:8080/"
        },
        "id": "3lpAQ9GAO3FS",
        "outputId": "a889ae68-e274-4f1e-9cf7-fa7c04081d19"
      },
      "source": [
        "# Podemos realizar operações de forma fácil, mesmo que as listas estejam dentro de um array.\n",
        "# Vamos calcular novamente a média.\n",
        "\n",
        "km_media = (dados[0] / (2021 - dados[1])).round(2)\n",
        "km_media"
      ],
      "execution_count": null,
      "outputs": [
        {
          "output_type": "execute_result",
          "data": {
            "text/plain": [
              "array([3265.35,  234.93, 1607.8 ,    7.5 , 2836.  ])"
            ]
          },
          "metadata": {
            "tags": []
          },
          "execution_count": 28
        }
      ]
    },
    {
      "cell_type": "markdown",
      "metadata": {
        "id": "LWrXS4y1P9m0"
      },
      "source": [
        "# Acessando valores dentro do array numpy"
      ]
    },
    {
      "cell_type": "code",
      "metadata": {
        "colab": {
          "base_uri": "https://localhost:8080/"
        },
        "id": "GfJ9PDseQjtn",
        "outputId": "6eba973c-61e4-4f06-dd12-c251bdf014d2"
      },
      "source": [
        "# Para acessar valores dentro do array, basta passar o índice, como foi mostrado anteriormente.\n",
        "\n",
        "dados[1] # Aqui temos acesso à lista de anos"
      ],
      "execution_count": null,
      "outputs": [
        {
          "output_type": "execute_result",
          "data": {
            "text/plain": [
              "array([2004, 1992, 1991, 2019, 2008])"
            ]
          },
          "metadata": {
            "tags": []
          },
          "execution_count": 32
        }
      ]
    },
    {
      "cell_type": "code",
      "metadata": {
        "colab": {
          "base_uri": "https://localhost:8080/"
        },
        "id": "cHQ2eYt_RbCu",
        "outputId": "66d51acc-876d-4107-b1af-f93441003cf0"
      },
      "source": [
        "# Para acessar um valor dentro que está dento dessa lista, podemos fazer fazer de duas formas:\n",
        "\n",
        "# nomeDoArray[linha][coluna] ou nomeDoArray[linha, coluna]\n",
        "\n",
        "# Vamos acessar o ano de 2019\n",
        "dados[1][3]"
      ],
      "execution_count": null,
      "outputs": [
        {
          "output_type": "execute_result",
          "data": {
            "text/plain": [
              "2019"
            ]
          },
          "metadata": {
            "tags": []
          },
          "execution_count": 33
        }
      ]
    },
    {
      "cell_type": "code",
      "metadata": {
        "colab": {
          "base_uri": "https://localhost:8080/"
        },
        "id": "L0ciEM1_R6YY",
        "outputId": "a011b5c0-bf57-41d5-d6f7-b4c015dacd47"
      },
      "source": [
        "# Agora vamos acessar o ano de 1991 com a outra metodologia\n",
        "dados[1,2]"
      ],
      "execution_count": null,
      "outputs": [
        {
          "output_type": "execute_result",
          "data": {
            "text/plain": [
              "1991"
            ]
          },
          "metadata": {
            "tags": []
          },
          "execution_count": 34
        }
      ]
    },
    {
      "cell_type": "markdown",
      "metadata": {
        "id": "CRTO968KTwBf"
      },
      "source": [
        "# Fatiamento"
      ]
    },
    {
      "cell_type": "code",
      "metadata": {
        "colab": {
          "base_uri": "https://localhost:8080/"
        },
        "id": "mBiUsbIfTyiQ",
        "outputId": "9642d562-02a5-47cc-f923-7c3b2ec9266c"
      },
      "source": [
        "# Criando um array com 10 valores\n",
        "\n",
        "contador = np.arange(10)\n",
        "contador"
      ],
      "execution_count": null,
      "outputs": [
        {
          "output_type": "execute_result",
          "data": {
            "text/plain": [
              "array([0, 1, 2, 3, 4, 5, 6, 7, 8, 9])"
            ]
          },
          "metadata": {
            "tags": []
          },
          "execution_count": 37
        }
      ]
    },
    {
      "cell_type": "code",
      "metadata": {
        "colab": {
          "base_uri": "https://localhost:8080/"
        },
        "id": "TVSegjytUjgz",
        "outputId": "5e5fe1e7-3781-4486-bfd7-cad6632e6ae4"
      },
      "source": [
        "# Para realizar oa fatiamento, você deve selecionar o indice que deve iniciar e o indice que deve terminar. \n",
        "# O último valor não entrará na contagem.\n",
        "\n",
        "# No exemplo abaixo eu fatiei do índice 1 até o índice 4, mas o valor presente no índice 4 não entra na contagem.\n",
        "\n",
        "contador[1:4]"
      ],
      "execution_count": null,
      "outputs": [
        {
          "output_type": "execute_result",
          "data": {
            "text/plain": [
              "array([1, 2, 3])"
            ]
          },
          "metadata": {
            "tags": []
          },
          "execution_count": 36
        }
      ]
    },
    {
      "cell_type": "code",
      "metadata": {
        "colab": {
          "base_uri": "https://localhost:8080/"
        },
        "id": "IqSjfq3eUoan",
        "outputId": "8d3171ab-b276-49a2-b932-36a54d841d2c"
      },
      "source": [
        "# No exemplo abaixo, além do fatiamento, temos o passo.\n",
        "# O passo é o intervalo entre cada elemento.\n",
        "\n",
        "# Ele fará a contagem com base no passo que for definido. Caso não seja, por padrão o passo será 1.\n",
        "\n",
        "contador[1:8:2] # passo 2. "
      ],
      "execution_count": null,
      "outputs": [
        {
          "output_type": "execute_result",
          "data": {
            "text/plain": [
              "array([1, 3, 5, 7])"
            ]
          },
          "metadata": {
            "tags": []
          },
          "execution_count": 38
        }
      ]
    },
    {
      "cell_type": "code",
      "metadata": {
        "colab": {
          "base_uri": "https://localhost:8080/"
        },
        "id": "BU1Fm8ugWzmC",
        "outputId": "c3184d31-3095-4856-a1b3-c43bb41b12f0"
      },
      "source": [
        "# vamos pegar somente os número pares da nossa sequência:\n",
        "\n",
        "# No exemplo abaixo foi definido um ínidice de início, no caso o 0.\n",
        "# Não foi definido um valor final, então ele passará por todo o array.\n",
        "# Foi definido o passo 2, então ele mostrará o valores com intervalos de 2 em 2.\n",
        "\n",
        "contador[0::2] "
      ],
      "execution_count": null,
      "outputs": [
        {
          "output_type": "execute_result",
          "data": {
            "text/plain": [
              "array([0, 2, 4, 6, 8])"
            ]
          },
          "metadata": {
            "tags": []
          },
          "execution_count": 39
        }
      ]
    },
    {
      "cell_type": "code",
      "metadata": {
        "colab": {
          "base_uri": "https://localhost:8080/"
        },
        "id": "UumpIr2qXX0y",
        "outputId": "74596576-26e2-419b-814e-2b67e276c8cd"
      },
      "source": [
        "# Agora vamos pegar os valore ímpares do nosso array.\n",
        "\n",
        "# O princípio foi o mesmo, mas dessa vez eu comecei pelo índice 1.\n",
        "\n",
        "contador[1::2]"
      ],
      "execution_count": null,
      "outputs": [
        {
          "output_type": "execute_result",
          "data": {
            "text/plain": [
              "array([1, 3, 5, 7, 9])"
            ]
          },
          "metadata": {
            "tags": []
          },
          "execution_count": 40
        }
      ]
    },
    {
      "cell_type": "code",
      "metadata": {
        "colab": {
          "base_uri": "https://localhost:8080/"
        },
        "id": "BlXfx1tXYlUx",
        "outputId": "bed08515-2e00-4ad7-d41c-8a326aa16127"
      },
      "source": [
        "dados"
      ],
      "execution_count": null,
      "outputs": [
        {
          "output_type": "execute_result",
          "data": {
            "text/plain": [
              "array([[55511,  6813, 48234,     0, 36868],\n",
              "       [ 2004,  1992,  1991,  2019,  2008]])"
            ]
          },
          "metadata": {
            "tags": []
          },
          "execution_count": 5
        }
      ]
    },
    {
      "cell_type": "code",
      "metadata": {
        "colab": {
          "base_uri": "https://localhost:8080/"
        },
        "id": "NGW8siFkY0vW",
        "outputId": "75a09ce3-4275-477a-a12a-85e8b5b8c893"
      },
      "source": [
        "# Agora vamos utilizar o fatiamento para manipular alguns dados específicos da nossa base.\n",
        "# Vamos calcular a média de KM dos veículos com ano de 1992, 1991 e 2019\n",
        "\n",
        "(dados[0][1:4] / (2021 - dados[1][1:4])).round(2)\n"
      ],
      "execution_count": null,
      "outputs": [
        {
          "output_type": "execute_result",
          "data": {
            "text/plain": [
              "array([ 234.93, 1607.8 ,    7.5 ])"
            ]
          },
          "metadata": {
            "tags": []
          },
          "execution_count": 47
        }
      ]
    },
    {
      "cell_type": "markdown",
      "metadata": {
        "id": "Rw6NIJRWo8aX"
      },
      "source": [
        "# Numpy array - Atributos.\n",
        "\n",
        "#### Para mais informações, acesse à documentação: https://numpy.org/doc/stable/reference/generated/numpy.ndarray.html"
      ]
    },
    {
      "cell_type": "markdown",
      "metadata": {
        "id": "El-gOu8zpH_a"
      },
      "source": [
        "# *shape*\n"
      ]
    },
    {
      "cell_type": "code",
      "metadata": {
        "colab": {
          "base_uri": "https://localhost:8080/"
        },
        "id": "_GYvBC1WpFzF",
        "outputId": "f9765980-81a2-40e7-b787-6efb753b3cc9"
      },
      "source": [
        "# O shape retorna uma tupla com as dimensões do array\n",
        "\n",
        "dados.shape"
      ],
      "execution_count": null,
      "outputs": [
        {
          "output_type": "execute_result",
          "data": {
            "text/plain": [
              "(2, 5)"
            ]
          },
          "metadata": {
            "tags": []
          },
          "execution_count": 8
        }
      ]
    },
    {
      "cell_type": "markdown",
      "metadata": {
        "id": "pdWw-oL5p0pP"
      },
      "source": [
        "# *ndim*"
      ]
    },
    {
      "cell_type": "code",
      "metadata": {
        "colab": {
          "base_uri": "https://localhost:8080/"
        },
        "id": "Tqt5WWTop6QD",
        "outputId": "f1bf3616-153f-4ffc-a176-bdc078f0ef19"
      },
      "source": [
        "# O ndim retorna o número de dimensões do array. No exemplo abaixo, o array possui duas dimensões.\n",
        "\n",
        "dados.ndim"
      ],
      "execution_count": null,
      "outputs": [
        {
          "output_type": "execute_result",
          "data": {
            "text/plain": [
              "2"
            ]
          },
          "metadata": {
            "tags": []
          },
          "execution_count": 9
        }
      ]
    },
    {
      "cell_type": "markdown",
      "metadata": {
        "id": "c4-3xifzqdhS"
      },
      "source": [
        "# size"
      ]
    },
    {
      "cell_type": "code",
      "metadata": {
        "colab": {
          "base_uri": "https://localhost:8080/"
        },
        "id": "y3xTRzkLqgLw",
        "outputId": "86600262-aa8e-480d-977d-cb65d4623f4a"
      },
      "source": [
        "# Retona o número de elementos do array. No exemplo abaixo temos 2 linhas e 5 colunas, logo ele terá um total de 10 elementos\n",
        "\n",
        "dados.size"
      ],
      "execution_count": null,
      "outputs": [
        {
          "output_type": "execute_result",
          "data": {
            "text/plain": [
              "10"
            ]
          },
          "metadata": {
            "tags": []
          },
          "execution_count": 10
        }
      ]
    },
    {
      "cell_type": "markdown",
      "metadata": {
        "id": "UTXqy_Ctq1QZ"
      },
      "source": [
        "# T"
      ]
    },
    {
      "cell_type": "code",
      "metadata": {
        "colab": {
          "base_uri": "https://localhost:8080/"
        },
        "id": "zBMEELvH4Kf-",
        "outputId": "a4f33336-e44c-43be-ff15-1c6de3fd66b8"
      },
      "source": [
        "# o \"T\" transforma linhas em colunas e colunas em linhas\n",
        "\n",
        "dados.T"
      ],
      "execution_count": null,
      "outputs": [
        {
          "output_type": "execute_result",
          "data": {
            "text/plain": [
              "array([[55511,  2004],\n",
              "       [ 6813,  1992],\n",
              "       [48234,  1991],\n",
              "       [    0,  2019],\n",
              "       [36868,  2008]])"
            ]
          },
          "metadata": {
            "tags": []
          },
          "execution_count": 11
        }
      ]
    },
    {
      "cell_type": "code",
      "metadata": {
        "colab": {
          "base_uri": "https://localhost:8080/"
        },
        "id": "lwj6cYOG4_eQ",
        "outputId": "882dfc32-f620-487c-f909-d584da103698"
      },
      "source": [
        "# O T é equivalente ao transpose()\n",
        "\n",
        "dados.transpose()"
      ],
      "execution_count": null,
      "outputs": [
        {
          "output_type": "execute_result",
          "data": {
            "text/plain": [
              "array([[55511,  2004],\n",
              "       [ 6813,  1992],\n",
              "       [48234,  1991],\n",
              "       [    0,  2019],\n",
              "       [36868,  2008]])"
            ]
          },
          "metadata": {
            "tags": []
          },
          "execution_count": 13
        }
      ]
    },
    {
      "cell_type": "markdown",
      "metadata": {
        "id": "lYJJyyVm5K6j"
      },
      "source": [
        "# tolist"
      ]
    },
    {
      "cell_type": "code",
      "metadata": {
        "colab": {
          "base_uri": "https://localhost:8080/"
        },
        "id": "hLOlI6pI5Pg7",
        "outputId": "4a73bd67-87e4-48c0-cb2e-22dea0309807"
      },
      "source": [
        "# O tolist transforma um array numpy em uma lista do python\n",
        "\n",
        "dados.tolist()"
      ],
      "execution_count": null,
      "outputs": [
        {
          "output_type": "execute_result",
          "data": {
            "text/plain": [
              "[[55511, 6813, 48234, 0, 36868], [2004, 1992, 1991, 2019, 2008]]"
            ]
          },
          "metadata": {
            "tags": []
          },
          "execution_count": 14
        }
      ]
    },
    {
      "cell_type": "markdown",
      "metadata": {
        "id": "DvuyDThM5c6Q"
      },
      "source": [
        "# reshape"
      ]
    },
    {
      "cell_type": "code",
      "metadata": {
        "colab": {
          "base_uri": "https://localhost:8080/"
        },
        "id": "Pi3OZv775fQO",
        "outputId": "4718ae41-5510-4aef-be00-7e40ea126c54"
      },
      "source": [
        "# O reshape modifica o formato do array.\n",
        "\n",
        "cont = np.arange(10)\n",
        "cont.reshape((2,5)) # Aqui podemos ver que o formato atual é de 2 linhas e 5 colunas"
      ],
      "execution_count": null,
      "outputs": [
        {
          "output_type": "execute_result",
          "data": {
            "text/plain": [
              "array([[0, 1, 2, 3, 4],\n",
              "       [5, 6, 7, 8, 9]])"
            ]
          },
          "metadata": {
            "tags": []
          },
          "execution_count": 21
        }
      ]
    },
    {
      "cell_type": "code",
      "metadata": {
        "colab": {
          "base_uri": "https://localhost:8080/"
        },
        "id": "EPCKfV6k5_YW",
        "outputId": "e27a1aca-ca47-4cda-e266-d1160e0f502a"
      },
      "source": [
        "cont.reshape((5,2)) # Agora, mantendo a mesma proporção da quantidade de elementos, eu alterei o formato para 5 linhas e 2 colunas"
      ],
      "execution_count": null,
      "outputs": [
        {
          "output_type": "execute_result",
          "data": {
            "text/plain": [
              "array([[0, 1],\n",
              "       [2, 3],\n",
              "       [4, 5],\n",
              "       [6, 7],\n",
              "       [8, 9]])"
            ]
          },
          "metadata": {
            "tags": []
          },
          "execution_count": 20
        }
      ]
    },
    {
      "cell_type": "code",
      "metadata": {
        "colab": {
          "base_uri": "https://localhost:8080/"
        },
        "id": "2MpFG1DP6OZB",
        "outputId": "4b050ebf-7aee-4694-8b2e-77c2bf3d3873"
      },
      "source": [
        "# por padrão, o reshape utiliza a indexação da linguagem \"C\" (Abaixo eu passei o order para melhor ilustração)\n",
        "\n",
        "cont.reshape((5,2), order='C')"
      ],
      "execution_count": null,
      "outputs": [
        {
          "output_type": "execute_result",
          "data": {
            "text/plain": [
              "array([[0, 1],\n",
              "       [2, 3],\n",
              "       [4, 5],\n",
              "       [6, 7],\n",
              "       [8, 9]])"
            ]
          },
          "metadata": {
            "tags": []
          },
          "execution_count": 23
        }
      ]
    },
    {
      "cell_type": "code",
      "metadata": {
        "colab": {
          "base_uri": "https://localhost:8080/"
        },
        "id": "KFD_3FU562nB",
        "outputId": "1d75db4d-b5af-45d2-a2b9-fd2a5dcd06d6"
      },
      "source": [
        "# Também é possível utilizar a indexação da linguagem Fortran, passando o \"F\" para o order.\n",
        "\n",
        "cont.reshape((5,2), order='F')"
      ],
      "execution_count": null,
      "outputs": [
        {
          "output_type": "execute_result",
          "data": {
            "text/plain": [
              "array([[0, 5],\n",
              "       [1, 6],\n",
              "       [2, 7],\n",
              "       [3, 8],\n",
              "       [4, 9]])"
            ]
          },
          "metadata": {
            "tags": []
          },
          "execution_count": 24
        }
      ]
    },
    {
      "cell_type": "code",
      "metadata": {
        "colab": {
          "base_uri": "https://localhost:8080/"
        },
        "id": "YezCEgXy7qWn",
        "outputId": "0e974dba-bf53-4842-93af-30679f8344b6"
      },
      "source": [
        "info = km + anos\n",
        "np.array(info).reshape((5,2), order='F')"
      ],
      "execution_count": null,
      "outputs": [
        {
          "output_type": "execute_result",
          "data": {
            "text/plain": [
              "array([[55511,  2004],\n",
              "       [ 6813,  1992],\n",
              "       [48234,  1991],\n",
              "       [    0,  2019],\n",
              "       [36868,  2008]])"
            ]
          },
          "metadata": {
            "tags": []
          },
          "execution_count": 35
        }
      ]
    },
    {
      "cell_type": "markdown",
      "metadata": {
        "id": "3Qs-ctdZ9JSH"
      },
      "source": [
        "# resize"
      ]
    },
    {
      "cell_type": "code",
      "metadata": {
        "colab": {
          "base_uri": "https://localhost:8080/"
        },
        "id": "WRLeZtqJ9T7_",
        "outputId": "83d47ba6-2d59-4c6e-bbeb-94f99e8663bf"
      },
      "source": [
        "# resize altera o tamanho do array, permitindo adicionar mais linhas ou coluunas\n",
        "\n",
        "dados"
      ],
      "execution_count": null,
      "outputs": [
        {
          "output_type": "execute_result",
          "data": {
            "text/plain": [
              "array([[55511,  6813, 48234,     0, 36868],\n",
              "       [ 2004,  1992,  1991,  2019,  2008]])"
            ]
          },
          "metadata": {
            "tags": []
          },
          "execution_count": 36
        }
      ]
    },
    {
      "cell_type": "code",
      "metadata": {
        "colab": {
          "base_uri": "https://localhost:8080/"
        },
        "id": "EWa-Z1KI9XaZ",
        "outputId": "381d71c6-1cb6-4d20-d728-6c08f50b7d80"
      },
      "source": [
        "dados_2 = dados.copy()\n",
        "dados_2.resize((3,5))\n",
        "dados_2"
      ],
      "execution_count": null,
      "outputs": [
        {
          "output_type": "execute_result",
          "data": {
            "text/plain": [
              "array([[55511,  6813, 48234,     0, 36868],\n",
              "       [ 2004,  1992,  1991,  2019,  2008],\n",
              "       [    0,     0,     0,     0,     0]])"
            ]
          },
          "metadata": {
            "tags": []
          },
          "execution_count": 39
        }
      ]
    },
    {
      "cell_type": "code",
      "metadata": {
        "colab": {
          "base_uri": "https://localhost:8080/",
          "height": 231
        },
        "id": "WqQsCWF2-Lvo",
        "outputId": "87eaa539-8990-441f-d56b-fbae2ebad602"
      },
      "source": [
        "# OBS: mesmo utilizando o \"copy\" ainda existe uma referência ao dado original, e durante o resize pode apresentar um erro.\n",
        "\n",
        "dados.resize((3,5))"
      ],
      "execution_count": null,
      "outputs": [
        {
          "output_type": "error",
          "ename": "ValueError",
          "evalue": "ignored",
          "traceback": [
            "\u001b[0;31m---------------------------------------------------------------------------\u001b[0m",
            "\u001b[0;31mValueError\u001b[0m                                Traceback (most recent call last)",
            "\u001b[0;32m<ipython-input-40-28e0d97f0868>\u001b[0m in \u001b[0;36m<module>\u001b[0;34m()\u001b[0m\n\u001b[1;32m      1\u001b[0m \u001b[0;31m# OBS: mesmo utilizando o \"copy\" ainda existe uma referência ao dado original, e durante o resize pode apresentar um erro.\u001b[0m\u001b[0;34m\u001b[0m\u001b[0;34m\u001b[0m\u001b[0;34m\u001b[0m\u001b[0m\n\u001b[1;32m      2\u001b[0m \u001b[0;34m\u001b[0m\u001b[0m\n\u001b[0;32m----> 3\u001b[0;31m \u001b[0mdados\u001b[0m\u001b[0;34m.\u001b[0m\u001b[0mresize\u001b[0m\u001b[0;34m(\u001b[0m\u001b[0;34m(\u001b[0m\u001b[0;36m3\u001b[0m\u001b[0;34m,\u001b[0m\u001b[0;36m5\u001b[0m\u001b[0;34m)\u001b[0m\u001b[0;34m)\u001b[0m\u001b[0;34m\u001b[0m\u001b[0;34m\u001b[0m\u001b[0m\n\u001b[0m",
            "\u001b[0;31mValueError\u001b[0m: cannot resize an array that references or is referenced\nby another array in this way.\nUse the np.resize function or refcheck=False"
          ]
        }
      ]
    },
    {
      "cell_type": "code",
      "metadata": {
        "colab": {
          "base_uri": "https://localhost:8080/"
        },
        "id": "vXrwe31E-VPi",
        "outputId": "1d8156f5-9541-4fc8-882b-5f42c516f1fc"
      },
      "source": [
        "# A mensagem de erro já nos da uma dica sobre o que fazer. \n",
        "# Nesse caso devemos passar o \"refcheck=False\" para que ele ignore essa referência.\n",
        "\n",
        "dados.resize((3,5), refcheck=False)\n",
        "dados"
      ],
      "execution_count": null,
      "outputs": [
        {
          "output_type": "execute_result",
          "data": {
            "text/plain": [
              "array([[55511,  6813, 48234,     0, 36868],\n",
              "       [ 2004,  1992,  1991,  2019,  2008],\n",
              "       [    0,     0,     0,     0,     0]])"
            ]
          },
          "metadata": {
            "tags": []
          },
          "execution_count": 44
        }
      ]
    },
    {
      "cell_type": "code",
      "metadata": {
        "colab": {
          "base_uri": "https://localhost:8080/"
        },
        "id": "5fmQRnQx-1BQ",
        "outputId": "36a7d67e-823a-4475-85c4-d5023fe8250b"
      },
      "source": [
        "# Para preencher as linhas/colunas que foram criados basta indicar o índice que vai receber os valores.\n",
        "# No exemplo abaixo eu vou preencher a linha com a média de KM/ano.\n",
        "\n",
        "dados_2[2] = dados_2[0] / (2021 - dados_2[1])\n",
        "dados_2"
      ],
      "execution_count": null,
      "outputs": [
        {
          "output_type": "execute_result",
          "data": {
            "text/plain": [
              "array([[55511,  6813, 48234,     0, 36868],\n",
              "       [ 2004,  1992,  1991,  2019,  2008],\n",
              "       [ 3265,   234,  1607,     0,  2836]])"
            ]
          },
          "metadata": {
            "tags": []
          },
          "execution_count": 45
        }
      ]
    },
    {
      "cell_type": "markdown",
      "metadata": {
        "id": "6DXt1BZqJ5SB"
      },
      "source": [
        "# Estatística com arrays numpy\n",
        "\n",
        "#### Mathematical documentation: https://numpy.org/doc/stable/reference/routines.math.html\n",
        "\n",
        "#### Numpy Statistics: https://numpy.org/doc/stable/reference/routines.statistics.html\n",
        "\n",
        "#### Numpy Calculation: https://numpy.org/doc/stable/reference/arrays.ndarray.html#calculation"
      ]
    },
    {
      "cell_type": "code",
      "metadata": {
        "id": "4ts1M9_rLBr2"
      },
      "source": [
        "# Carregando os arquivos\n",
        "\n",
        "km = np.loadtxt('carros-km.txt', dtype=int)\n",
        "anos = np.loadtxt('carros-anos.txt')\n",
        "valor = np.loadtxt('carros-valor.txt')"
      ],
      "execution_count": 4,
      "outputs": []
    },
    {
      "cell_type": "code",
      "metadata": {
        "colab": {
          "base_uri": "https://localhost:8080/"
        },
        "id": "1JDO6aokL1mO",
        "outputId": "5c31c6b9-aa7f-40f0-8458-c849f9ea3c26"
      },
      "source": [
        "# vamos utilizar o column_stack transformar um array unidimensional em colunas de um array de duas dimensões\n",
        "\n",
        "new_Data = np.column_stack((km, anos, valor))\n",
        "new_Data # Podemos ver que ele transformou os valores inteiros em float."
      ],
      "execution_count": 8,
      "outputs": [
        {
          "output_type": "execute_result",
          "data": {
            "text/plain": [
              "array([[4.4410000e+04, 2.0030000e+03, 8.8078640e+04],\n",
              "       [5.7120000e+03, 1.9910000e+03, 1.0616194e+05],\n",
              "       [3.7123000e+04, 1.9900000e+03, 7.2832160e+04],\n",
              "       [0.0000000e+00, 2.0190000e+03, 1.2454907e+05],\n",
              "       [2.5757000e+04, 2.0060000e+03, 9.2612100e+04],\n",
              "       [1.0728000e+04, 2.0120000e+03, 9.7497730e+04],\n",
              "       [0.0000000e+00, 2.0190000e+03, 5.6445200e+04],\n",
              "       [7.7599000e+04, 2.0090000e+03, 1.1231044e+05],\n",
              "       [9.9197000e+04, 2.0100000e+03, 1.2071627e+05],\n",
              "       [3.7978000e+04, 2.0110000e+03, 7.6566490e+04],\n",
              "       [1.2859000e+04, 2.0020000e+03, 7.1647590e+04],\n",
              "       [8.0520000e+03, 2.0070000e+03, 7.3919530e+04],\n",
              "       [8.9773000e+04, 2.0010000e+03, 1.1273299e+05],\n",
              "       [0.0000000e+00, 2.0190000e+03, 5.3183380e+04],\n",
              "       [4.1457000e+04, 2.0090000e+03, 1.2748842e+05],\n",
              "       [1.1560700e+05, 2.0160000e+03, 5.9910400e+04],\n",
              "       [4.6449000e+04, 2.0120000e+03, 6.1118590e+04],\n",
              "       [0.0000000e+00, 2.0190000e+03, 8.8552390e+04],\n",
              "       [3.7086000e+04, 2.0160000e+03, 6.2696690e+04],\n",
              "       [1.5173000e+04, 2.0170000e+03, 1.0172630e+05],\n",
              "       [1.0119300e+05, 2.0020000e+03, 1.0614738e+05],\n",
              "       [0.0000000e+00, 2.0190000e+03, 9.4564400e+04],\n",
              "       [9.8079000e+04, 1.9940000e+03, 1.3352984e+05],\n",
              "       [1.0295900e+05, 1.9910000e+03, 1.2568465e+05],\n",
              "       [0.0000000e+00, 2.0190000e+03, 1.2159621e+05],\n",
              "       [0.0000000e+00, 2.0190000e+03, 7.1367100e+04],\n",
              "       [5.7950000e+03, 2.0160000e+03, 9.5347750e+04],\n",
              "       [0.0000000e+00, 2.0190000e+03, 1.0543284e+05],\n",
              "       [5.8848000e+04, 2.0020000e+03, 5.7045270e+04],\n",
              "       [9.4381000e+04, 1.9910000e+03, 1.2043270e+05],\n",
              "       [3.0163000e+04, 1.9970000e+03, 7.0707200e+04],\n",
              "       [5.3332000e+04, 1.9950000e+03, 6.9105180e+04],\n",
              "       [1.7720000e+04, 2.0180000e+03, 5.9358690e+04],\n",
              "       [3.3808000e+04, 1.9910000e+03, 6.5955400e+04],\n",
              "       [9.0684000e+04, 2.0140000e+03, 6.0017030e+04],\n",
              "       [4.3975000e+04, 1.9950000e+03, 1.1890952e+05],\n",
              "       [0.0000000e+00, 2.0190000e+03, 5.1606590e+04],\n",
              "       [0.0000000e+00, 2.0190000e+03, 1.2328187e+05],\n",
              "       [5.5260000e+03, 2.0090000e+03, 6.9770180e+04],\n",
              "       [0.0000000e+00, 2.0190000e+03, 1.0260954e+05],\n",
              "       [9.3415000e+04, 2.0130000e+03, 6.7997190e+04],\n",
              "       [4.0762000e+04, 2.0030000e+03, 1.3523529e+05],\n",
              "       [0.0000000e+00, 2.0190000e+03, 8.6641340e+04],\n",
              "       [8.6302000e+04, 2.0020000e+03, 1.3681839e+05],\n",
              "       [0.0000000e+00, 2.0190000e+03, 1.1762673e+05],\n",
              "       [9.7550000e+03, 2.0020000e+03, 5.6208700e+04],\n",
              "       [6.9945000e+04, 2.0040000e+03, 8.4222650e+04],\n",
              "       [2.3950000e+03, 2.0010000e+03, 9.0781650e+04],\n",
              "       [0.0000000e+00, 2.0190000e+03, 6.4701100e+04],\n",
              "       [8.0349000e+04, 2.0030000e+03, 1.2635049e+05],\n",
              "       [8.5554000e+04, 2.0090000e+03, 1.4815289e+05],\n",
              "       [5.0496000e+04, 2.0060000e+03, 1.3229883e+05],\n",
              "       [6.7716000e+04, 2.0000000e+03, 1.3762763e+05],\n",
              "       [9.3947000e+04, 2.0060000e+03, 8.0422710e+04],\n",
              "       [3.5345000e+04, 2.0100000e+03, 5.6373990e+04],\n",
              "       [8.1007000e+04, 1.9940000e+03, 7.0846030e+04],\n",
              "       [1.1951300e+05, 2.0070000e+03, 1.2869423e+05],\n",
              "       [0.0000000e+00, 2.0190000e+03, 1.3332919e+05],\n",
              "       [0.0000000e+00, 2.0190000e+03, 1.3196143e+05],\n",
              "       [0.0000000e+00, 2.0190000e+03, 1.1203327e+05],\n",
              "       [0.0000000e+00, 2.0190000e+03, 8.1399350e+04],\n",
              "       [0.0000000e+00, 2.0190000e+03, 9.7163100e+04],\n",
              "       [1.1889500e+05, 2.0170000e+03, 6.6007160e+04],\n",
              "       [4.8509000e+04, 2.0110000e+03, 1.2877622e+05],\n",
              "       [1.0091200e+05, 2.0010000e+03, 1.4262302e+05],\n",
              "       [9.5649000e+04, 1.9960000e+03, 1.3693013e+05],\n",
              "       [0.0000000e+00, 2.0190000e+03, 6.6526610e+04],\n",
              "       [9.0495000e+04, 1.9940000e+03, 1.1415487e+05],\n",
              "       [0.0000000e+00, 2.0190000e+03, 1.4239275e+05],\n",
              "       [2.9132000e+04, 2.0070000e+03, 1.4671691e+05],\n",
              "       [2.3802000e+04, 1.9940000e+03, 1.2248568e+05],\n",
              "       [8.4992000e+04, 2.0070000e+03, 9.7951030e+04],\n",
              "       [5.4395000e+04, 1.9970000e+03, 7.8283490e+04],\n",
              "       [2.6731000e+04, 2.0060000e+03, 8.3434040e+04],\n",
              "       [4.4329000e+04, 2.0130000e+03, 7.7836230e+04],\n",
              "       [1.1823600e+05, 1.9940000e+03, 6.0813920e+04],\n",
              "       [1.1380800e+05, 2.0080000e+03, 9.1353860e+04],\n",
              "       [6.1000000e+02, 2.0080000e+03, 1.1628121e+05],\n",
              "       [0.0000000e+00, 2.0190000e+03, 1.4519770e+05],\n",
              "       [0.0000000e+00, 2.0190000e+03, 5.0742100e+04],\n",
              "       [1.2887000e+04, 1.9990000e+03, 7.3033530e+04],\n",
              "       [7.9607000e+04, 2.0070000e+03, 5.4332870e+04],\n",
              "       [9.0924000e+04, 1.9930000e+03, 5.2207450e+04],\n",
              "       [4.2733000e+04, 1.9950000e+03, 6.3578500e+04],\n",
              "       [0.0000000e+00, 2.0190000e+03, 6.4507720e+04],\n",
              "       [0.0000000e+00, 2.0190000e+03, 1.1507559e+05],\n",
              "       [1.1771400e+05, 2.0160000e+03, 1.3303060e+05],\n",
              "       [1.1388500e+05, 2.0110000e+03, 1.4159186e+05],\n",
              "       [0.0000000e+00, 2.0190000e+03, 1.0038028e+05],\n",
              "       [3.0511000e+04, 2.0020000e+03, 9.6369040e+04],\n",
              "       [7.4867000e+04, 2.0130000e+03, 1.4260384e+05],\n",
              "       [1.1976000e+05, 2.0170000e+03, 1.1770967e+05],\n",
              "       [8.3560000e+03, 2.0160000e+03, 1.0224154e+05],\n",
              "       [6.4247000e+04, 2.0080000e+03, 9.6065380e+04],\n",
              "       [8.8661000e+04, 2.0180000e+03, 5.3894610e+04],\n",
              "       [4.5390000e+03, 2.0030000e+03, 1.2391178e+05],\n",
              "       [1.1011600e+05, 2.0030000e+03, 1.0199635e+05],\n",
              "       [3.3215000e+04, 2.0040000e+03, 8.3431660e+04],\n",
              "       [9.2001000e+04, 2.0100000e+03, 1.2297563e+05],\n",
              "       [0.0000000e+00, 2.0190000e+03, 9.3227730e+04],\n",
              "       [8.1708000e+04, 2.0060000e+03, 5.8762650e+04],\n",
              "       [7.0641000e+04, 2.0010000e+03, 1.3954967e+05],\n",
              "       [0.0000000e+00, 2.0190000e+03, 1.2201642e+05],\n",
              "       [9.1277000e+04, 2.0150000e+03, 7.2731980e+04],\n",
              "       [2.6544000e+04, 2.0180000e+03, 8.8416540e+04],\n",
              "       [5.2596000e+04, 2.0170000e+03, 7.3873420e+04],\n",
              "       [4.7503000e+04, 1.9920000e+03, 7.0709340e+04],\n",
              "       [8.9056000e+04, 2.0010000e+03, 1.1530650e+05],\n",
              "       [2.8834000e+04, 1.9930000e+03, 5.5924630e+04],\n",
              "       [1.1056400e+05, 1.9950000e+03, 8.5052260e+04],\n",
              "       [5.6638000e+04, 2.0030000e+03, 5.6646340e+04],\n",
              "       [1.7357000e+04, 2.0140000e+03, 1.3894688e+05],\n",
              "       [7.4015000e+04, 2.0080000e+03, 1.0825672e+05],\n",
              "       [1.5196000e+04, 2.0130000e+03, 5.8979300e+04],\n",
              "       [0.0000000e+00, 2.0190000e+03, 1.1472768e+05],\n",
              "       [1.0821000e+04, 2.0170000e+03, 1.3966148e+05],\n",
              "       [0.0000000e+00, 2.0190000e+03, 8.0382240e+04],\n",
              "       [0.0000000e+00, 2.0190000e+03, 1.4915717e+05],\n",
              "       [9.5950000e+03, 2.0060000e+03, 8.7830410e+04],\n",
              "       [9.9052000e+04, 2.0150000e+03, 1.4356822e+05],\n",
              "       [5.2389000e+04, 2.0070000e+03, 1.3817185e+05],\n",
              "       [1.1994500e+05, 2.0050000e+03, 1.1578495e+05],\n",
              "       [9.6005000e+04, 2.0170000e+03, 1.4650899e+05],\n",
              "       [3.1639000e+04, 1.9980000e+03, 1.3767023e+05],\n",
              "       [0.0000000e+00, 2.0190000e+03, 1.3859727e+05],\n",
              "       [8.0187000e+04, 1.9990000e+03, 1.4762781e+05],\n",
              "       [0.0000000e+00, 2.0190000e+03, 6.2999020e+04],\n",
              "       [5.8212000e+04, 2.0090000e+03, 9.1242440e+04],\n",
              "       [6.1672000e+04, 2.0030000e+03, 1.4948992e+05],\n",
              "       [3.2017000e+04, 1.9940000e+03, 6.3529950e+04],\n",
              "       [0.0000000e+00, 2.0190000e+03, 5.8525410e+04],\n",
              "       [5.6944000e+04, 1.9940000e+03, 9.0345050e+04],\n",
              "       [0.0000000e+00, 2.0190000e+03, 1.4777087e+05],\n",
              "       [8.6519000e+04, 2.0150000e+03, 1.0661771e+05],\n",
              "       [4.8210000e+03, 1.9960000e+03, 1.0492988e+05],\n",
              "       [1.0102500e+05, 1.9970000e+03, 1.0071245e+05],\n",
              "       [3.0705000e+04, 1.9930000e+03, 1.4198293e+05],\n",
              "       [0.0000000e+00, 2.0190000e+03, 1.0403879e+05],\n",
              "       [3.2555000e+04, 1.9920000e+03, 8.8501540e+04],\n",
              "       [1.0338900e+05, 1.9950000e+03, 7.9782020e+04],\n",
              "       [0.0000000e+00, 2.0190000e+03, 8.6224100e+04],\n",
              "       [5.5289000e+04, 1.9900000e+03, 1.0359618e+05],\n",
              "       [0.0000000e+00, 2.0190000e+03, 1.4899647e+05],\n",
              "       [0.0000000e+00, 2.0190000e+03, 6.0948010e+04],\n",
              "       [1.1593000e+05, 1.9910000e+03, 6.9535440e+04],\n",
              "       [6.6437000e+04, 1.9900000e+03, 1.1113033e+05],\n",
              "       [9.6800000e+04, 2.0120000e+03, 6.5847690e+04],\n",
              "       [1.4237000e+04, 2.0070000e+03, 7.8096060e+04],\n",
              "       [1.9896000e+04, 2.0130000e+03, 6.9219890e+04],\n",
              "       [1.1304500e+05, 2.0000000e+03, 1.4411891e+05],\n",
              "       [1.1494200e+05, 2.0020000e+03, 7.7397050e+04],\n",
              "       [3.1730000e+03, 1.9960000e+03, 6.8974250e+04],\n",
              "       [8.3611000e+04, 1.9960000e+03, 1.2523130e+05],\n",
              "       [2.5356000e+04, 2.0150000e+03, 8.5501120e+04],\n",
              "       [8.8634000e+04, 1.9930000e+03, 1.3711621e+05],\n",
              "       [2.3140000e+03, 2.0130000e+03, 1.3882381e+05],\n",
              "       [2.6270000e+03, 2.0130000e+03, 1.1796195e+05],\n",
              "       [5.2034000e+04, 2.0090000e+03, 1.3266232e+05],\n",
              "       [0.0000000e+00, 2.0190000e+03, 1.4640579e+05],\n",
              "       [0.0000000e+00, 2.0190000e+03, 8.1999210e+04],\n",
              "       [7.9577000e+04, 2.0020000e+03, 1.4093460e+05],\n",
              "       [1.0820100e+05, 1.9970000e+03, 8.2366810e+04],\n",
              "       [7.6453000e+04, 1.9980000e+03, 7.0424110e+04],\n",
              "       [5.7683000e+04, 2.0040000e+03, 5.3620310e+04],\n",
              "       [9.6610000e+04, 1.9960000e+03, 7.3389180e+04],\n",
              "       [1.0900100e+05, 2.0150000e+03, 1.1161812e+05],\n",
              "       [2.6212000e+04, 2.0160000e+03, 1.1218737e+05],\n",
              "       [4.5971000e+04, 2.0050000e+03, 1.2081257e+05],\n",
              "       [4.9182000e+04, 1.9990000e+03, 1.1603104e+05],\n",
              "       [4.9907000e+04, 1.9950000e+03, 1.2539811e+05],\n",
              "       [3.8620000e+04, 1.9930000e+03, 7.6101470e+04],\n",
              "       [6.0996000e+04, 2.0040000e+03, 7.5263240e+04],\n",
              "       [7.3914000e+04, 2.0130000e+03, 1.4738776e+05],\n",
              "       [1.0739200e+05, 1.9980000e+03, 8.5311400e+04],\n",
              "       [9.1460000e+03, 2.0180000e+03, 5.4388110e+04],\n",
              "       [0.0000000e+00, 2.0190000e+03, 1.2415665e+05],\n",
              "       [1.7924000e+04, 2.0180000e+03, 1.4620334e+05],\n",
              "       [0.0000000e+00, 2.0190000e+03, 5.6453940e+04],\n",
              "       [1.1694900e+05, 1.9900000e+03, 6.8873790e+04],\n",
              "       [2.0476000e+04, 2.0090000e+03, 9.1667610e+04],\n",
              "       [5.2804000e+04, 1.9900000e+03, 9.3776520e+04],\n",
              "       [8.8490000e+03, 2.0060000e+03, 6.6433820e+04],\n",
              "       [9.1724000e+04, 2.0020000e+03, 1.0905927e+05],\n",
              "       [3.2056000e+04, 1.9910000e+03, 1.2206997e+05],\n",
              "       [7.4886000e+04, 1.9920000e+03, 1.1309032e+05],\n",
              "       [0.0000000e+00, 2.0190000e+03, 8.9401100e+04],\n",
              "       [0.0000000e+00, 2.0190000e+03, 5.6842790e+04],\n",
              "       [5.2189000e+04, 2.0050000e+03, 1.4667671e+05],\n",
              "       [8.3559000e+04, 2.0100000e+03, 8.9511960e+04],\n",
              "       [0.0000000e+00, 2.0190000e+03, 9.7290180e+04],\n",
              "       [2.0328000e+04, 2.0160000e+03, 1.2067356e+05],\n",
              "       [0.0000000e+00, 2.0190000e+03, 1.1443494e+05],\n",
              "       [7.5577000e+04, 2.0100000e+03, 1.3954669e+05],\n",
              "       [3.3659000e+04, 1.9940000e+03, 9.5078160e+04],\n",
              "       [1.0434100e+05, 2.0010000e+03, 6.8091770e+04],\n",
              "       [2.5510000e+04, 2.0140000e+03, 6.1496970e+04],\n",
              "       [1.8965000e+04, 1.9960000e+03, 1.3966930e+05],\n",
              "       [8.7161000e+04, 1.9930000e+03, 8.0661390e+04],\n",
              "       [6.6520000e+03, 1.9930000e+03, 6.1783650e+04],\n",
              "       [5.5738000e+04, 2.0010000e+03, 5.2805910e+04],\n",
              "       [0.0000000e+00, 2.0190000e+03, 1.2702475e+05],\n",
              "       [0.0000000e+00, 2.0190000e+03, 1.3554300e+05],\n",
              "       [0.0000000e+00, 2.0190000e+03, 1.2170873e+05],\n",
              "       [6.4320000e+04, 2.0070000e+03, 1.0734268e+05],\n",
              "       [0.0000000e+00, 2.0190000e+03, 5.7888100e+04],\n",
              "       [6.8678000e+04, 2.0160000e+03, 1.1816148e+05],\n",
              "       [7.1697000e+04, 2.0140000e+03, 1.4249906e+05],\n",
              "       [0.0000000e+00, 2.0190000e+03, 1.2839611e+05],\n",
              "       [3.4783000e+04, 2.0150000e+03, 1.1235061e+05],\n",
              "       [3.3772000e+04, 2.0150000e+03, 1.2466138e+05],\n",
              "       [8.5127000e+04, 1.9960000e+03, 5.4263160e+04],\n",
              "       [1.3606000e+04, 2.0020000e+03, 6.2041320e+04],\n",
              "       [3.5647000e+04, 2.0050000e+03, 1.2929611e+05],\n",
              "       [9.5128000e+04, 1.9950000e+03, 6.0998330e+04],\n",
              "       [1.4046000e+04, 1.9990000e+03, 5.8008500e+04],\n",
              "       [4.1194000e+04, 2.0050000e+03, 8.2304190e+04],\n",
              "       [0.0000000e+00, 2.0190000e+03, 1.1453174e+05],\n",
              "       [9.6100000e+04, 1.9970000e+03, 1.2856561e+05],\n",
              "       [1.0390000e+05, 1.9900000e+03, 1.2648826e+05],\n",
              "       [4.3814000e+04, 2.0010000e+03, 1.1907455e+05],\n",
              "       [2.4638000e+04, 2.0130000e+03, 1.3023804e+05],\n",
              "       [0.0000000e+00, 2.0190000e+03, 1.1576017e+05],\n",
              "       [1.1096600e+05, 2.0170000e+03, 1.2124800e+05],\n",
              "       [1.5987000e+04, 2.0110000e+03, 9.8156350e+04],\n",
              "       [5.3369000e+04, 2.0050000e+03, 1.1214680e+05],\n",
              "       [1.0077000e+04, 2.0070000e+03, 1.0272963e+05],\n",
              "       [7.1544000e+04, 1.9930000e+03, 1.4108335e+05],\n",
              "       [1.0700000e+02, 1.9910000e+03, 1.0296876e+05],\n",
              "       [8.3940000e+03, 1.9910000e+03, 7.6310010e+04],\n",
              "       [4.1498000e+04, 1.9970000e+03, 1.2048174e+05],\n",
              "       [1.1600200e+05, 2.0000000e+03, 5.4559180e+04],\n",
              "       [1.0085800e+05, 2.0070000e+03, 9.2957640e+04],\n",
              "       [6.7475000e+04, 2.0060000e+03, 1.2781006e+05],\n",
              "       [8.4970000e+03, 2.0150000e+03, 7.3311750e+04],\n",
              "       [4.4200000e+03, 2.0080000e+03, 6.5138030e+04],\n",
              "       [0.0000000e+00, 2.0190000e+03, 9.0141470e+04],\n",
              "       [5.8537000e+04, 1.9960000e+03, 7.1160360e+04],\n",
              "       [0.0000000e+00, 2.0190000e+03, 6.7539790e+04],\n",
              "       [0.0000000e+00, 2.0190000e+03, 6.7664860e+04],\n",
              "       [1.1201600e+05, 2.0140000e+03, 6.8652160e+04],\n",
              "       [9.1840000e+04, 2.0040000e+03, 1.1472874e+05],\n",
              "       [1.1278700e+05, 2.0080000e+03, 1.4164508e+05],\n",
              "       [0.0000000e+00, 2.0190000e+03, 1.2624784e+05],\n",
              "       [0.0000000e+00, 2.0190000e+03, 1.2885221e+05],\n",
              "       [9.2930000e+03, 2.0120000e+03, 1.3238476e+05],\n",
              "       [0.0000000e+00, 2.0190000e+03, 1.2941533e+05],\n",
              "       [5.5083000e+04, 1.9960000e+03, 8.9536820e+04],\n",
              "       [4.8796000e+04, 2.0110000e+03, 8.7975300e+04],\n",
              "       [0.0000000e+00, 2.0190000e+03, 7.7675790e+04],\n",
              "       [8.9685000e+04, 2.0100000e+03, 5.8881670e+04],\n",
              "       [8.5384000e+04, 2.0070000e+03, 5.5081990e+04],\n",
              "       [9.8108000e+04, 1.9940000e+03, 1.1882644e+05],\n",
              "       [7.1280000e+04, 2.0070000e+03, 1.3762762e+05],\n",
              "       [2.7505000e+04, 2.0140000e+03, 5.1759580e+04],\n",
              "       [2.9981000e+04, 1.9910000e+03, 5.1667060e+04],\n",
              "       [5.2637000e+04, 2.0020000e+03, 6.8934030e+04],\n",
              "       [7.6850000e+03, 1.9960000e+03, 1.2211090e+05],\n",
              "       [5.0188000e+04, 1.9920000e+03, 9.0381470e+04]])"
            ]
          },
          "metadata": {
            "tags": []
          },
          "execution_count": 8
        }
      ]
    },
    {
      "cell_type": "code",
      "metadata": {
        "colab": {
          "base_uri": "https://localhost:8080/"
        },
        "id": "ydROb3PzM_dG",
        "outputId": "268341cb-fe36-4205-e771-5eec38d618bb"
      },
      "source": [
        "new_Data.dtype"
      ],
      "execution_count": 12,
      "outputs": [
        {
          "output_type": "execute_result",
          "data": {
            "text/plain": [
              "dtype('float64')"
            ]
          },
          "metadata": {
            "tags": []
          },
          "execution_count": 12
        }
      ]
    },
    {
      "cell_type": "code",
      "metadata": {
        "colab": {
          "base_uri": "https://localhost:8080/"
        },
        "id": "cMqHzCKrNigu",
        "outputId": "9d452a22-4eee-411b-f6ed-8f09ad1fbc06"
      },
      "source": [
        "new_Data.shape"
      ],
      "execution_count": 13,
      "outputs": [
        {
          "output_type": "execute_result",
          "data": {
            "text/plain": [
              "(258, 3)"
            ]
          },
          "metadata": {
            "tags": []
          },
          "execution_count": 13
        }
      ]
    },
    {
      "cell_type": "markdown",
      "metadata": {
        "id": "bTSJhnRSPiqx"
      },
      "source": [
        "# mean"
      ]
    },
    {
      "cell_type": "code",
      "metadata": {
        "colab": {
          "base_uri": "https://localhost:8080/"
        },
        "id": "2cCpn2X4NpIQ",
        "outputId": "d7fc2c4c-f34b-48c8-eb09-2c5269a68fed"
      },
      "source": [
        "# Vamos calcular a média da coluna km e da coluna valor\n",
        "\n",
        "np.mean(new_Data[:, 0]) # Pegamos todas as linhas e selecionamos a primeira coluna -> km"
      ],
      "execution_count": 15,
      "outputs": [
        {
          "output_type": "execute_result",
          "data": {
            "text/plain": [
              "44499.41472868217"
            ]
          },
          "metadata": {
            "tags": []
          },
          "execution_count": 15
        }
      ]
    },
    {
      "cell_type": "code",
      "metadata": {
        "colab": {
          "base_uri": "https://localhost:8080/"
        },
        "id": "6STMcCT3O2WP",
        "outputId": "de06bca5-ad6a-4e41-cf2a-a1b6e52e0046"
      },
      "source": [
        "np.mean(new_Data[:, 2]) # Pegamos todas as linhas e selecionamos a terceira coluna -> valor"
      ],
      "execution_count": 16,
      "outputs": [
        {
          "output_type": "execute_result",
          "data": {
            "text/plain": [
              "98960.51310077519"
            ]
          },
          "metadata": {
            "tags": []
          },
          "execution_count": 16
        }
      ]
    },
    {
      "cell_type": "markdown",
      "metadata": {
        "id": "-aZPfbIoPrfk"
      },
      "source": [
        "# std"
      ]
    },
    {
      "cell_type": "code",
      "metadata": {
        "colab": {
          "base_uri": "https://localhost:8080/"
        },
        "id": "smiOhMjaPDXu",
        "outputId": "cb97d488-dfbf-4cb0-e823-bfb35fcbe118"
      },
      "source": [
        "# Vamos descobrir o desvio padrão\n",
        "\n",
        "np.std(new_Data[:, 0]) # Desvio padrão da coluna KM"
      ],
      "execution_count": 18,
      "outputs": [
        {
          "output_type": "execute_result",
          "data": {
            "text/plain": [
              "39859.82699005149"
            ]
          },
          "metadata": {
            "tags": []
          },
          "execution_count": 18
        }
      ]
    },
    {
      "cell_type": "code",
      "metadata": {
        "colab": {
          "base_uri": "https://localhost:8080/"
        },
        "id": "sFQdDCI3Pv5A",
        "outputId": "18b06171-a485-43f6-a1e9-be3211095699"
      },
      "source": [
        "np.std(new_Data[:, 2]) # Desvio padrão da coluna valor"
      ],
      "execution_count": 19,
      "outputs": [
        {
          "output_type": "execute_result",
          "data": {
            "text/plain": [
              "29754.101150388564"
            ]
          },
          "metadata": {
            "tags": []
          },
          "execution_count": 19
        }
      ]
    },
    {
      "cell_type": "markdown",
      "metadata": {
        "id": "AFsc0fRHP96O"
      },
      "source": [
        "# sum"
      ]
    },
    {
      "cell_type": "code",
      "metadata": {
        "colab": {
          "base_uri": "https://localhost:8080/"
        },
        "id": "vJVbzjEXQJF5",
        "outputId": "5d731b94-9970-48e7-dbcf-861a1b9686d8"
      },
      "source": [
        "# Podemos utilizar o 'sum' com arrays e elementos individuais\n",
        "\n",
        "# No caso de arrays, ele retorna a soma dos elementos com base no eixo que for selecionado\n",
        "\n",
        "# axis = 0 => Coluna\n",
        "# axis = 1 => Linha\n",
        "\n",
        "new_Data.sum(axis=0) # Somatório das 3 colunas"
      ],
      "execution_count": 25,
      "outputs": [
        {
          "output_type": "execute_result",
          "data": {
            "text/plain": [
              "array([11480849.        ,   517938.        , 25531812.37999999])"
            ]
          },
          "metadata": {
            "tags": []
          },
          "execution_count": 25
        }
      ]
    },
    {
      "cell_type": "code",
      "metadata": {
        "colab": {
          "base_uri": "https://localhost:8080/"
        },
        "id": "-KxtiX3yR_m9",
        "outputId": "65fb2609-96bc-40d1-8307-2c4dc14573d8"
      },
      "source": [
        "new_Data.sum(axis=0).shape"
      ],
      "execution_count": 28,
      "outputs": [
        {
          "output_type": "execute_result",
          "data": {
            "text/plain": [
              "(3,)"
            ]
          },
          "metadata": {
            "tags": []
          },
          "execution_count": 28
        }
      ]
    },
    {
      "cell_type": "code",
      "metadata": {
        "colab": {
          "base_uri": "https://localhost:8080/"
        },
        "id": "0eZDaoxuRvhl",
        "outputId": "24452c92-68dc-4f44-a38c-16c8869072c8"
      },
      "source": [
        "new_Data.sum(axis=1) # somatório das 258 linhas\n",
        "new_Data.sum(axis=1).shape"
      ],
      "execution_count": 29,
      "outputs": [
        {
          "output_type": "execute_result",
          "data": {
            "text/plain": [
              "(258,)"
            ]
          },
          "metadata": {
            "tags": []
          },
          "execution_count": 29
        }
      ]
    },
    {
      "cell_type": "code",
      "metadata": {
        "colab": {
          "base_uri": "https://localhost:8080/"
        },
        "id": "T1aMCVaLSKmg",
        "outputId": "9caeab07-9ad0-4c6f-8d6a-be75b98b965d"
      },
      "source": [
        "# fazendo o somatório por coluna\n",
        "\n",
        "np.sum(new_Data[:, 0])"
      ],
      "execution_count": 31,
      "outputs": [
        {
          "output_type": "execute_result",
          "data": {
            "text/plain": [
              "11480849.0"
            ]
          },
          "metadata": {
            "tags": []
          },
          "execution_count": 31
        }
      ]
    },
    {
      "cell_type": "code",
      "metadata": {
        "colab": {
          "base_uri": "https://localhost:8080/"
        },
        "id": "cUFwU1yrSiKI",
        "outputId": "979a0120-51a6-4bad-82ec-b527d1d20ad8"
      },
      "source": [
        "np.sum(new_Data[:, 1])"
      ],
      "execution_count": 34,
      "outputs": [
        {
          "output_type": "execute_result",
          "data": {
            "text/plain": [
              "517938.0"
            ]
          },
          "metadata": {
            "tags": []
          },
          "execution_count": 34
        }
      ]
    },
    {
      "cell_type": "markdown",
      "metadata": {
        "id": "hWS7PwJvv7zn"
      },
      "source": [
        "# Descobrindo o tipo de dado.\n",
        "\n",
        "#### utilizando o *type* podemos descobrir com qual tipo de dados estamos trabalhando"
      ]
    },
    {
      "cell_type": "code",
      "metadata": {
        "colab": {
          "base_uri": "https://localhost:8080/"
        },
        "id": "y62PXOc3vZqe",
        "outputId": "9799abce-9e61-4fde-ea27-3514bf571991"
      },
      "source": [
        "type(km)"
      ],
      "execution_count": null,
      "outputs": [
        {
          "output_type": "execute_result",
          "data": {
            "text/plain": [
              "numpy.ndarray"
            ]
          },
          "metadata": {
            "tags": []
          },
          "execution_count": 16
        }
      ]
    },
    {
      "cell_type": "code",
      "metadata": {
        "colab": {
          "base_uri": "https://localhost:8080/"
        },
        "id": "dU5PF_KUwHaN",
        "outputId": "0204e014-daff-4772-921a-c80044694f5f"
      },
      "source": [
        "v = 5\n",
        "type(v)"
      ],
      "execution_count": null,
      "outputs": [
        {
          "output_type": "execute_result",
          "data": {
            "text/plain": [
              "int"
            ]
          },
          "metadata": {
            "tags": []
          },
          "execution_count": 17
        }
      ]
    },
    {
      "cell_type": "code",
      "metadata": {
        "colab": {
          "base_uri": "https://localhost:8080/"
        },
        "id": "soCJX9WtwTIN",
        "outputId": "37d1a4c7-cc95-42f8-af45-00adf6eebc55"
      },
      "source": [
        "v1 = 2.5\n",
        "type(v1)"
      ],
      "execution_count": null,
      "outputs": [
        {
          "output_type": "execute_result",
          "data": {
            "text/plain": [
              "float"
            ]
          },
          "metadata": {
            "tags": []
          },
          "execution_count": 18
        }
      ]
    },
    {
      "cell_type": "code",
      "metadata": {
        "colab": {
          "base_uri": "https://localhost:8080/"
        },
        "id": "BOL6ywTZwnmS",
        "outputId": "16818ed7-8667-478c-d187-d446e6c01d46"
      },
      "source": [
        "v3 = True\n",
        "type(v3)"
      ],
      "execution_count": null,
      "outputs": [
        {
          "output_type": "execute_result",
          "data": {
            "text/plain": [
              "bool"
            ]
          },
          "metadata": {
            "tags": []
          },
          "execution_count": 19
        }
      ]
    },
    {
      "cell_type": "code",
      "metadata": {
        "colab": {
          "base_uri": "https://localhost:8080/"
        },
        "id": "uY6X4v0hwrKH",
        "outputId": "9f37f3de-eb1b-40fc-e3f6-0befb561a20d"
      },
      "source": [
        "v4 = 'olá'\n",
        "type(v4)"
      ],
      "execution_count": null,
      "outputs": [
        {
          "output_type": "execute_result",
          "data": {
            "text/plain": [
              "str"
            ]
          },
          "metadata": {
            "tags": []
          },
          "execution_count": 20
        }
      ]
    },
    {
      "cell_type": "code",
      "metadata": {
        "colab": {
          "base_uri": "https://localhost:8080/"
        },
        "id": "U14BZD_txOgu",
        "outputId": "ac3f1796-6c8a-465a-bdfb-5a5f39581e58"
      },
      "source": [
        "# Para visualizar qual o tipo de dado armazenado dentro de um array numpy, utilizamos o 'dtype'\n",
        "\n",
        "# Lembrando que em uma lista do python podemos ter tipos variados (int, float, string...), mas no array do numpy isso não é possível.\n",
        "# O array do numpy armazena apenas um tipo de dado. \n",
        "\n",
        "km.dtype"
      ],
      "execution_count": null,
      "outputs": [
        {
          "output_type": "execute_result",
          "data": {
            "text/plain": [
              "dtype('int64')"
            ]
          },
          "metadata": {
            "tags": []
          },
          "execution_count": 21
        }
      ]
    },
    {
      "cell_type": "markdown",
      "metadata": {
        "id": "EA4RQ9N8yK1H"
      },
      "source": [
        "#### Para mais informações sobre Tipos de dados, acesse a documentação no link: https://numpy.org/devdocs/user/basics.types.html"
      ]
    }
  ]
}