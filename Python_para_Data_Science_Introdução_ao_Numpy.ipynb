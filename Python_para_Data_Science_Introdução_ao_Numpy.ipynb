{
  "nbformat": 4,
  "nbformat_minor": 0,
  "metadata": {
    "colab": {
      "name": "Python para Data Science - Introdução ao Numpy.ipynb",
      "provenance": [],
      "collapsed_sections": [],
      "authorship_tag": "ABX9TyMjCg4P83YSGqA2cxt0VeQA"
    },
    "kernelspec": {
      "name": "python3",
      "display_name": "Python 3"
    },
    "language_info": {
      "name": "python"
    }
  },
  "cells": [
    {
      "cell_type": "markdown",
      "metadata": {
        "id": "COXeBoEwdFP2"
      },
      "source": [
        "# Conhecendo o Numpy\n",
        "\n",
        "#### Numpy é a breviação de Numerical Python. Ele é um pacote poderoso e uito importante, utilizado para processamento numérico em Python.\n",
        "\n",
        "#### Alguns dos destaques desse poderoso pacote são:\n",
        "\n",
        "#### **> Objeto array multidimensional muito poderoso e performático**\n",
        "#### **> Funções matemáticas para operações com arrays sem a necessidade de utilizar o laço** *for* \n",
        "#### **> Recursos de algebra linear para gerar números aleatórios**\n",
        "#### **> Também pode ser aplicado com computação quântica, aplicação de modelos estatísticos, processamento de imagens e muitas outras funcionalidades**\n",
        "\n",
        "# **Documentação:** https://numpy.org/"
      ]
    },
    {
      "cell_type": "markdown",
      "metadata": {
        "id": "xXswe6AMgtAF"
      },
      "source": [
        "# Importando o Numpy\n",
        "\n",
        "#### Para importar o pacote numpy, ou qualquer pacote que já esteja disponível em seu notebook, basta utiliar o *import* e em seguida o nome do pacote."
      ]
    },
    {
      "cell_type": "code",
      "metadata": {
        "id": "dkUH2AT-c0wq"
      },
      "source": [
        "# Por questões de boas práticas, a comunidade faz o uso de alguns apelidos para alguns pacotes. \n",
        "# No caso do numpy utilizamos o \"np\"\n",
        "# para associar o apelido ao pacote, pasta utilizar o \"as\" para realizar a associação\n",
        "\n",
        "import numpy as np"
      ],
      "execution_count": 1,
      "outputs": []
    },
    {
      "cell_type": "markdown",
      "metadata": {
        "id": "ym8Gmi3evuPA"
      },
      "source": [
        "# Criando uma array Numpy"
      ]
    },
    {
      "cell_type": "code",
      "metadata": {
        "colab": {
          "base_uri": "https://localhost:8080/"
        },
        "id": "iEBqJZKjmCMe",
        "outputId": "11facc66-3fb1-4715-c068-61a40c3771f9"
      },
      "source": [
        "# Para criar um array a partir de valores de sua preferência, basta utilizar o \"np.array\".\n",
        "# Vamos utilizar a sequência de números a seguir no exemplo: 1000, 2365, 2300, 5500\n",
        "\n",
        "np.array([1000, 2365, 2300, 5500])\n",
        "\n",
        "# Você pode assiciar o array a uma variável. Vamos pensar esses valores são quilometragens.\n",
        "\n",
        "km = np.array([1000, 2365, 2300, 5500])\n",
        "\n",
        "# Agora, ao chamar a variável km, podemos acessar o nosso array\n",
        "\n",
        "km"
      ],
      "execution_count": 2,
      "outputs": [
        {
          "output_type": "execute_result",
          "data": {
            "text/plain": [
              "array([1000, 2365, 2300, 5500])"
            ]
          },
          "metadata": {
            "tags": []
          },
          "execution_count": 2
        }
      ]
    },
    {
      "cell_type": "markdown",
      "metadata": {
        "id": "RuHRJdTak73s"
      },
      "source": [
        "# Método *arange*\n",
        "\n",
        "#### > O método arange serve para criar um array numpy. Com esse método, basta passar um valor por parâmetro ele criará um array com uma sequêcnia de valores correspondes ao número que foi fornecido.\n",
        "\n",
        "#### Veja abaixo um exemplo de aplicação.\n",
        "\n",
        "#### Para mais detalhes, acesse: https://numpy.org/doc/stable/reference/generated/numpy.arange.html"
      ]
    },
    {
      "cell_type": "code",
      "metadata": {
        "colab": {
          "base_uri": "https://localhost:8080/"
        },
        "id": "VIVCIet0isaE",
        "outputId": "e3808f43-8c49-48b7-e2ca-fb8ade98e842"
      },
      "source": [
        "# Aqui podemos ver que ele criou um array com 10 elementos de 0 até 9.\n",
        "\n",
        "np.arange(10)"
      ],
      "execution_count": 3,
      "outputs": [
        {
          "output_type": "execute_result",
          "data": {
            "text/plain": [
              "array([0, 1, 2, 3, 4, 5, 6, 7, 8, 9])"
            ]
          },
          "metadata": {
            "tags": []
          },
          "execution_count": 3
        }
      ]
    },
    {
      "cell_type": "markdown",
      "metadata": {
        "id": "_CRjIb3m1DZm"
      },
      "source": [
        "# Utilizando o *loadtxt* para utilizar um dado externo\n",
        "\n",
        "#### Para mais detalhes, acesse: https://numpy.org/doc/stable/reference/generated/numpy.loadtxt.html"
      ]
    },
    {
      "cell_type": "code",
      "metadata": {
        "id": "1MTNBZOO0hHG"
      },
      "source": [
        "# Para importar um arquivo para o google colaboratory, vamos utilizar o método 'files'\n",
        "# Este método está presente no pacote do google.colab\n",
        "\n",
        "#from google.colab import files\n",
        "\n",
        "#files.upload()"
      ],
      "execution_count": 4,
      "outputs": []
    },
    {
      "cell_type": "code",
      "metadata": {
        "colab": {
          "base_uri": "https://localhost:8080/"
        },
        "id": "4CcHwrwx46hm",
        "outputId": "de8632de-0ab4-4e44-c7bd-487440f5ce0a"
      },
      "source": [
        "# fname > Parâmetro que indica qual arquivo eu quero carregar.\n",
        "# dtype > informa o tipo da variável que queremos. \n",
        "# É importante definir o tipo. Por padrão, o numpay define o valor como float\n",
        "\n",
        "km = np.loadtxt(fname='carros-km.txt', dtype= int)\n",
        "km"
      ],
      "execution_count": 5,
      "outputs": [
        {
          "output_type": "execute_result",
          "data": {
            "text/plain": [
              "array([ 44410,   5712,  37123,      0,  25757,  10728,      0,  77599,\n",
              "        99197,  37978,  12859,   8052,  89773,      0,  41457, 115607,\n",
              "        46449,      0,  37086,  15173, 101193,      0,  98079, 102959,\n",
              "            0,      0,   5795,      0,  58848,  94381,  30163,  53332,\n",
              "        17720,  33808,  90684,  43975,      0,      0,   5526,      0,\n",
              "        93415,  40762,      0,  86302,      0,   9755,  69945,   2395,\n",
              "            0,  80349,  85554,  50496,  67716,  93947,  35345,  81007,\n",
              "       119513,      0,      0,      0,      0,      0, 118895,  48509,\n",
              "       100912,  95649,      0,  90495,      0,  29132,  23802,  84992,\n",
              "        54395,  26731,  44329, 118236, 113808,    610,      0,      0,\n",
              "        12887,  79607,  90924,  42733,      0,      0, 117714, 113885,\n",
              "            0,  30511,  74867, 119760,   8356,  64247,  88661,   4539,\n",
              "       110116,  33215,  92001,      0,  81708,  70641,      0,  91277,\n",
              "        26544,  52596,  47503,  89056,  28834, 110564,  56638,  17357,\n",
              "        74015,  15196,      0,  10821,      0,      0,   9595,  99052,\n",
              "        52389, 119945,  96005,  31639,      0,  80187,      0,  58212,\n",
              "        61672,  32017,      0,  56944,      0,  86519,   4821, 101025,\n",
              "        30705,      0,  32555, 103389,      0,  55289,      0,      0,\n",
              "       115930,  66437,  96800,  14237,  19896, 113045, 114942,   3173,\n",
              "        83611,  25356,  88634,   2314,   2627,  52034,      0,      0,\n",
              "        79577, 108201,  76453,  57683,  96610, 109001,  26212,  45971,\n",
              "        49182,  49907,  38620,  60996,  73914, 107392,   9146,      0,\n",
              "        17924,      0, 116949,  20476,  52804,   8849,  91724,  32056,\n",
              "        74886,      0,      0,  52189,  83559,      0,  20328,      0,\n",
              "        75577,  33659, 104341,  25510,  18965,  87161,   6652,  55738,\n",
              "            0,      0,      0,  64320,      0,  68678,  71697,      0,\n",
              "        34783,  33772,  85127,  13606,  35647,  95128,  14046,  41194,\n",
              "            0,  96100, 103900,  43814,  24638,      0, 110966,  15987,\n",
              "        53369,  10077,  71544,    107,   8394,  41498, 116002, 100858,\n",
              "        67475,   8497,   4420,      0,  58537,      0,      0, 112016,\n",
              "        91840, 112787,      0,      0,   9293,      0,  55083,  48796,\n",
              "            0,  89685,  85384,  98108,  71280,  27505,  29981,  52637,\n",
              "         7685,  50188])"
            ]
          },
          "metadata": {
            "tags": []
          },
          "execution_count": 5
        }
      ]
    },
    {
      "cell_type": "markdown",
      "metadata": {
        "id": "Xyaug5SeAQVb"
      },
      "source": [
        "# Comparando desempenho\n",
        "\n",
        "## numpy array   X   python list\n",
        "\n"
      ]
    },
    {
      "cell_type": "code",
      "metadata": {
        "id": "vgSBcXC-AK0U"
      },
      "source": [
        "# Criando um array numpy com 1 milhão de elementos\n",
        "\n",
        "numpy_array = np.arange(1000000)"
      ],
      "execution_count": 6,
      "outputs": []
    },
    {
      "cell_type": "code",
      "metadata": {
        "id": "C_VBZddOkfFe"
      },
      "source": [
        "# Criando uma lista do python com 1 milhão de elementos\n",
        "\n",
        "python_list = list(range(1000000))"
      ],
      "execution_count": 7,
      "outputs": []
    },
    {
      "cell_type": "code",
      "metadata": {
        "colab": {
          "base_uri": "https://localhost:8080/"
        },
        "id": "6Yf3gXbSkiuk",
        "outputId": "e6b6fd04-35ab-4dde-dc6a-f25e64504619"
      },
      "source": [
        "# %time Calcula o tempode execução da linha de código\n",
        "\n",
        "%time for _ in range(100): numpy_array *= 2"
      ],
      "execution_count": 8,
      "outputs": [
        {
          "output_type": "stream",
          "text": [
            "CPU times: user 71.7 ms, sys: 0 ns, total: 71.7 ms\n",
            "Wall time: 75.3 ms\n"
          ],
          "name": "stdout"
        }
      ]
    },
    {
      "cell_type": "code",
      "metadata": {
        "colab": {
          "base_uri": "https://localhost:8080/"
        },
        "id": "5k70wXsdki1r",
        "outputId": "b95fa70d-6657-4e1f-95d9-1d2f356c787c"
      },
      "source": [
        "%time for _ in range(100): python_list = [x * 2 for x in python_list]"
      ],
      "execution_count": 9,
      "outputs": [
        {
          "output_type": "stream",
          "text": [
            "CPU times: user 9.34 s, sys: 1.94 s, total: 11.3 s\n",
            "Wall time: 11.4 s\n"
          ],
          "name": "stdout"
        }
      ]
    },
    {
      "cell_type": "markdown",
      "metadata": {
        "id": "pMdHvL5jl-f1"
      },
      "source": [
        "# Podemos ver que para trablhar com grandes quantidades de valores, o array do numpy é muito mais performático do que a lista do Python"
      ]
    },
    {
      "cell_type": "markdown",
      "metadata": {
        "id": "Qsy8C7X2ynaY"
      },
      "source": [
        "#### Para mais informações sobre arrays do numpy, acesse a documentação no link abaixo: https://numpy.org/devdocs/user/basics.creation.html"
      ]
    },
    {
      "cell_type": "markdown",
      "metadata": {
        "id": "6KGWvg-jyojp"
      },
      "source": [
        "# Operações com arrays"
      ]
    },
    {
      "cell_type": "code",
      "metadata": {
        "id": "kP8xIK_Uyrfi"
      },
      "source": [
        "# Abaixo temos duas listas. Uma possui valores de KM e o outro corresponde ao ano de fabricação de um veículo.\n",
        "\n",
        "km = [55511, 6813, 48234, 0, 36868]\n",
        "anos = [2004, 1992, 1991, 2019, 2008]"
      ],
      "execution_count": 10,
      "outputs": []
    },
    {
      "cell_type": "code",
      "metadata": {
        "colab": {
          "base_uri": "https://localhost:8080/"
        },
        "id": "DIt6f37ozPVh",
        "outputId": "e9612403-6e84-4284-e335-412dbc546a90"
      },
      "source": [
        "# Vamos descobrir a aidade de cada veículo.\n",
        "\n",
        "# uma das formas de encontrar a idade de cada veículo utilizando uma lista do Python, é utilizando o for. \n",
        "\n",
        "for i in range(len(anos)):\n",
        "  print(f'A idade do veículo em 2021 é: {2021 - anos[i]} anos')"
      ],
      "execution_count": 11,
      "outputs": [
        {
          "output_type": "stream",
          "text": [
            "A idade do veículo em 2021 é: 17 anos\n",
            "A idade do veículo em 2021 é: 29 anos\n",
            "A idade do veículo em 2021 é: 30 anos\n",
            "A idade do veículo em 2021 é: 2 anos\n",
            "A idade do veículo em 2021 é: 13 anos\n"
          ],
          "name": "stdout"
        }
      ]
    },
    {
      "cell_type": "code",
      "metadata": {
        "id": "tOyvor401Mja"
      },
      "source": [
        "# Agora vamos descobrir a idade dos veículos utilizando o array do numpy.\n",
        "\n",
        "km = np.array([55511, 6813, 48234, 15, 36868])\n",
        "anos = np.array([2004, 1992, 1991, 2019, 2008])"
      ],
      "execution_count": 12,
      "outputs": []
    },
    {
      "cell_type": "code",
      "metadata": {
        "colab": {
          "base_uri": "https://localhost:8080/"
        },
        "id": "WEltPeMf1mD4",
        "outputId": "bda376c7-d160-44a0-d449-5bde7b74d368"
      },
      "source": [
        "# Com o array do Numpy, a operação fica muito mais simples. Veja no exemplo.\n",
        "\n",
        "idade_do_veiculo = 2021 - anos\n",
        "idade_do_veiculo\n",
        "\n",
        "# Como podemos ver acima, a lista do Python não suporta, por exemplo, operações entre um inteiro e uma lista. \n",
        "# Por outro lado, o array do Numpy possui suporte para esse tipo de operação, facilitado e simplificado o código."
      ],
      "execution_count": 13,
      "outputs": [
        {
          "output_type": "execute_result",
          "data": {
            "text/plain": [
              "array([17, 29, 30,  2, 13])"
            ]
          },
          "metadata": {
            "tags": []
          },
          "execution_count": 13
        }
      ]
    },
    {
      "cell_type": "code",
      "metadata": {
        "colab": {
          "base_uri": "https://localhost:8080/"
        },
        "id": "m9Z4MGig20y1",
        "outputId": "8177b204-ce20-40f5-b541-c6e4aad6943f"
      },
      "source": [
        "# Também é possível realizar operações entre os arrays do Numpy. Vamos descobrir a KM média dos veículos.\n",
        "\n",
        "km_media = (km / idade_do_veiculo).round(2)\n",
        "km_media"
      ],
      "execution_count": 14,
      "outputs": [
        {
          "output_type": "execute_result",
          "data": {
            "text/plain": [
              "array([3265.35,  234.93, 1607.8 ,    7.5 , 2836.  ])"
            ]
          },
          "metadata": {
            "tags": []
          },
          "execution_count": 14
        }
      ]
    },
    {
      "cell_type": "code",
      "metadata": {
        "colab": {
          "base_uri": "https://localhost:8080/"
        },
        "id": "Jti8wYMp4fm8",
        "outputId": "cb1cc91e-ccbc-410b-da31-ad7f0532626e"
      },
      "source": [
        "# Para alcançar o mesmo resultado com a lista do Python, temos que pegar um caminho mais complexo.\n",
        "\n",
        "km_M = []\n",
        "idade_V = []\n",
        "\n",
        "for i in range(len(anos)):\n",
        "  idade_V.append(2021 - anos[i])\n",
        "for i in range(len(idade_V)):\n",
        "  print(f'{(km[i] / idade_V[i]):.2f}')\n"
      ],
      "execution_count": 15,
      "outputs": [
        {
          "output_type": "stream",
          "text": [
            "3265.35\n",
            "234.93\n",
            "1607.80\n",
            "7.50\n",
            "2836.00\n"
          ],
          "name": "stdout"
        }
      ]
    },
    {
      "cell_type": "markdown",
      "metadata": {
        "id": "UXZfeUUrKBWI"
      },
      "source": [
        "# Arrays de duas dimensões"
      ]
    },
    {
      "cell_type": "code",
      "metadata": {
        "colab": {
          "base_uri": "https://localhost:8080/"
        },
        "id": "mWWXBncNKJvA",
        "outputId": "d602eab9-dc56-458b-b1b9-d2624708375e"
      },
      "source": [
        "# Podemos criar facilmente um array com uma ou mais listas em seu interior.\n",
        "\n",
        "dados = np.array([km, anos])\n",
        "dados"
      ],
      "execution_count": 25,
      "outputs": [
        {
          "output_type": "execute_result",
          "data": {
            "text/plain": [
              "array([[55511,  6813, 48234,    15, 36868],\n",
              "       [ 2004,  1992,  1991,  2019,  2008]])"
            ]
          },
          "metadata": {
            "tags": []
          },
          "execution_count": 25
        }
      ]
    },
    {
      "cell_type": "code",
      "metadata": {
        "colab": {
          "base_uri": "https://localhost:8080/"
        },
        "id": "fEv88AUYOdPc",
        "outputId": "425f51d9-a941-4298-ecc8-fe8fc6dcddf1"
      },
      "source": [
        "# Para realizar o acesso aos elementos do array, basta passar o índice.\n",
        "\n",
        "dados[0] # Nesse caso acessamos a lista correspondente à quilometragem"
      ],
      "execution_count": 26,
      "outputs": [
        {
          "output_type": "execute_result",
          "data": {
            "text/plain": [
              "array([55511,  6813, 48234,    15, 36868])"
            ]
          },
          "metadata": {
            "tags": []
          },
          "execution_count": 26
        }
      ]
    },
    {
      "cell_type": "code",
      "metadata": {
        "colab": {
          "base_uri": "https://localhost:8080/"
        },
        "id": "3lpAQ9GAO3FS",
        "outputId": "a889ae68-e274-4f1e-9cf7-fa7c04081d19"
      },
      "source": [
        "# Podemos realizar operações de forma fácil, mesmo que as listas estejam dentro de um array.\n",
        "# Vamos calcular novamente a média.\n",
        "\n",
        "km_media = (dados[0] / (2021 - dados[1])).round(2)\n",
        "km_media"
      ],
      "execution_count": 28,
      "outputs": [
        {
          "output_type": "execute_result",
          "data": {
            "text/plain": [
              "array([3265.35,  234.93, 1607.8 ,    7.5 , 2836.  ])"
            ]
          },
          "metadata": {
            "tags": []
          },
          "execution_count": 28
        }
      ]
    },
    {
      "cell_type": "markdown",
      "metadata": {
        "id": "LWrXS4y1P9m0"
      },
      "source": [
        "# Acessando valores dentro do array numpy"
      ]
    },
    {
      "cell_type": "code",
      "metadata": {
        "colab": {
          "base_uri": "https://localhost:8080/"
        },
        "id": "GfJ9PDseQjtn",
        "outputId": "6eba973c-61e4-4f06-dd12-c251bdf014d2"
      },
      "source": [
        "# Para acessar valores dentro do array, basta passar o índice, como foi mostrado anteriormente.\n",
        "\n",
        "dados[1] # Aqui temos acesso à lista de anos"
      ],
      "execution_count": 32,
      "outputs": [
        {
          "output_type": "execute_result",
          "data": {
            "text/plain": [
              "array([2004, 1992, 1991, 2019, 2008])"
            ]
          },
          "metadata": {
            "tags": []
          },
          "execution_count": 32
        }
      ]
    },
    {
      "cell_type": "code",
      "metadata": {
        "colab": {
          "base_uri": "https://localhost:8080/"
        },
        "id": "cHQ2eYt_RbCu",
        "outputId": "66d51acc-876d-4107-b1af-f93441003cf0"
      },
      "source": [
        "# Para acessar um valor dentro que está dento dessa lista, podemos fazer fazer de duas formas:\n",
        "\n",
        "# nomeDoArray[linha][coluna] ou nomeDoArray[linha, coluna]\n",
        "\n",
        "# Vamos acessar o ano de 2019\n",
        "dados[1][3]"
      ],
      "execution_count": 33,
      "outputs": [
        {
          "output_type": "execute_result",
          "data": {
            "text/plain": [
              "2019"
            ]
          },
          "metadata": {
            "tags": []
          },
          "execution_count": 33
        }
      ]
    },
    {
      "cell_type": "code",
      "metadata": {
        "colab": {
          "base_uri": "https://localhost:8080/"
        },
        "id": "L0ciEM1_R6YY",
        "outputId": "a011b5c0-bf57-41d5-d6f7-b4c015dacd47"
      },
      "source": [
        "# Agora vamos acessar o ano de 1991 com a outra metodologia\n",
        "dados[1,2]"
      ],
      "execution_count": 34,
      "outputs": [
        {
          "output_type": "execute_result",
          "data": {
            "text/plain": [
              "1991"
            ]
          },
          "metadata": {
            "tags": []
          },
          "execution_count": 34
        }
      ]
    },
    {
      "cell_type": "markdown",
      "metadata": {
        "id": "hWS7PwJvv7zn"
      },
      "source": [
        "# Descobrindo o tipo de dado.\n",
        "\n",
        "#### utilizando o *type* podemos descobrir com qual tipo de dados estamos trabalhando"
      ]
    },
    {
      "cell_type": "code",
      "metadata": {
        "colab": {
          "base_uri": "https://localhost:8080/"
        },
        "id": "y62PXOc3vZqe",
        "outputId": "9799abce-9e61-4fde-ea27-3514bf571991"
      },
      "source": [
        "type(km)"
      ],
      "execution_count": 16,
      "outputs": [
        {
          "output_type": "execute_result",
          "data": {
            "text/plain": [
              "numpy.ndarray"
            ]
          },
          "metadata": {
            "tags": []
          },
          "execution_count": 16
        }
      ]
    },
    {
      "cell_type": "code",
      "metadata": {
        "colab": {
          "base_uri": "https://localhost:8080/"
        },
        "id": "dU5PF_KUwHaN",
        "outputId": "0204e014-daff-4772-921a-c80044694f5f"
      },
      "source": [
        "v = 5\n",
        "type(v)"
      ],
      "execution_count": 17,
      "outputs": [
        {
          "output_type": "execute_result",
          "data": {
            "text/plain": [
              "int"
            ]
          },
          "metadata": {
            "tags": []
          },
          "execution_count": 17
        }
      ]
    },
    {
      "cell_type": "code",
      "metadata": {
        "colab": {
          "base_uri": "https://localhost:8080/"
        },
        "id": "soCJX9WtwTIN",
        "outputId": "37d1a4c7-cc95-42f8-af45-00adf6eebc55"
      },
      "source": [
        "v1 = 2.5\n",
        "type(v1)"
      ],
      "execution_count": 18,
      "outputs": [
        {
          "output_type": "execute_result",
          "data": {
            "text/plain": [
              "float"
            ]
          },
          "metadata": {
            "tags": []
          },
          "execution_count": 18
        }
      ]
    },
    {
      "cell_type": "code",
      "metadata": {
        "colab": {
          "base_uri": "https://localhost:8080/"
        },
        "id": "BOL6ywTZwnmS",
        "outputId": "16818ed7-8667-478c-d187-d446e6c01d46"
      },
      "source": [
        "v3 = True\n",
        "type(v3)"
      ],
      "execution_count": 19,
      "outputs": [
        {
          "output_type": "execute_result",
          "data": {
            "text/plain": [
              "bool"
            ]
          },
          "metadata": {
            "tags": []
          },
          "execution_count": 19
        }
      ]
    },
    {
      "cell_type": "code",
      "metadata": {
        "colab": {
          "base_uri": "https://localhost:8080/"
        },
        "id": "uY6X4v0hwrKH",
        "outputId": "9f37f3de-eb1b-40fc-e3f6-0befb561a20d"
      },
      "source": [
        "v4 = 'olá'\n",
        "type(v4)"
      ],
      "execution_count": 20,
      "outputs": [
        {
          "output_type": "execute_result",
          "data": {
            "text/plain": [
              "str"
            ]
          },
          "metadata": {
            "tags": []
          },
          "execution_count": 20
        }
      ]
    },
    {
      "cell_type": "code",
      "metadata": {
        "colab": {
          "base_uri": "https://localhost:8080/"
        },
        "id": "U14BZD_txOgu",
        "outputId": "ac3f1796-6c8a-465a-bdfb-5a5f39581e58"
      },
      "source": [
        "# Para visualizar qual o tipo de dado armazenado dentro de um array numpy, utilizamos o 'dtype'\n",
        "\n",
        "km.dtype"
      ],
      "execution_count": 21,
      "outputs": [
        {
          "output_type": "execute_result",
          "data": {
            "text/plain": [
              "dtype('int64')"
            ]
          },
          "metadata": {
            "tags": []
          },
          "execution_count": 21
        }
      ]
    },
    {
      "cell_type": "markdown",
      "metadata": {
        "id": "EA4RQ9N8yK1H"
      },
      "source": [
        "#### Para mais informações sobre Tipos de dados, acesse a documentação no link: https://numpy.org/devdocs/user/basics.types.html"
      ]
    },
    {
      "cell_type": "code",
      "metadata": {
        "id": "27rhkAWExohK"
      },
      "source": [
        ""
      ],
      "execution_count": 21,
      "outputs": []
    }
  ]
}