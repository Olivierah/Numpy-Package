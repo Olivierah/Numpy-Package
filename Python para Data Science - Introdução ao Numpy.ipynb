{
  "cells": [
    {
      "cell_type": "markdown",
      "metadata": {
        "id": "COXeBoEwdFP2"
      },
      "source": [
        "# Conhecendo o Numpy\n",
        "\n",
        "#### Numpy é a breviação de Numerical Python. Ele é um pacote poderoso e uito importante, utilizado para processamento numérico em Python.\n",
        "\n",
        "#### Alguns dos destaques desse poderoso pacote são:\n",
        "\n",
        "#### **> Objeto array multidimensional muito poderoso e performático**\n",
        "#### **> Funções matemáticas para operações com arrays sem a necessidade de utilizar o laço** *for* \n",
        "#### **> Recursos de algebra linear para gerar números aleatórios**\n",
        "#### **> Também pode ser aplicado com computação quântica, aplicação de modelos estatísticos, processamento de imagens e muitas outras funcionalidades**\n",
        "\n",
        "# **Documentação:** https://numpy.org/"
      ]
    },
    {
      "cell_type": "markdown",
      "metadata": {
        "id": "xXswe6AMgtAF"
      },
      "source": [
        "# Importando o Numpy\n",
        "\n",
        "#### Para importar o pacote numpy, ou qualquer pacote que já esteja disponível em seu notebook, basta utiliar o *import* e em seguida o nome do pacote."
      ]
    },
    {
      "cell_type": "code",
      "execution_count": 1,
      "metadata": {
        "id": "dkUH2AT-c0wq"
      },
      "outputs": [],
      "source": [
        "# Por questões de boas práticas, a comunidade faz o uso de alguns apelidos para alguns pacotes. \n",
        "# No caso do numpy utilizamos o \"np\"\n",
        "# para associar o apelido ao pacote, pasta utilizar o \"as\" para realizar a associação\n",
        "\n",
        "import numpy as np"
      ]
    },
    {
      "cell_type": "markdown",
      "metadata": {
        "id": "ym8Gmi3evuPA"
      },
      "source": [
        "# Criando uma array Numpy"
      ]
    },
    {
      "cell_type": "code",
      "execution_count": null,
      "metadata": {
        "colab": {
          "base_uri": "https://localhost:8080/"
        },
        "id": "iEBqJZKjmCMe",
        "outputId": "4e0b15ca-464a-4bcb-b00c-1f4a33f6af47"
      },
      "outputs": [
        {
          "data": {
            "text/plain": [
              "array([1000, 2365, 2300, 5500])"
            ]
          },
          "execution_count": 3,
          "metadata": {
            "tags": []
          },
          "output_type": "execute_result"
        }
      ],
      "source": [
        "# Para criar um array a partir de valores de sua preferência, basta utilizar o \"np.array\".\n",
        "# Vamos utilizar a sequência de números a seguir no exemplo: 1000, 2365, 2300, 5500\n",
        "\n",
        "np.array([1000, 2365, 2300, 5500])\n",
        "\n",
        "# Você pode assiciar o array a uma variável. Vamos pensar esses valores são quilometragens.\n",
        "\n",
        "km = np.array([1000, 2365, 2300, 5500])\n",
        "\n",
        "# Agora, ao chamar a variável km, podemos acessar o nosso array\n",
        "\n",
        "km"
      ]
    },
    {
      "cell_type": "markdown",
      "metadata": {
        "id": "RuHRJdTak73s"
      },
      "source": [
        "# Método *arange*\n",
        "\n",
        "#### > O método arange serve para criar um array numpy. Com esse método, basta passar um valor por parâmetro ele criará um array com uma sequêcnia de valores correspondes ao número que foi fornecido.\n",
        "\n",
        "#### Veja abaixo um exemplo de aplicação.\n",
        "\n",
        "#### Para mais detalhes, acesse: https://numpy.org/doc/stable/reference/generated/numpy.arange.html"
      ]
    },
    {
      "cell_type": "code",
      "execution_count": null,
      "metadata": {
        "colab": {
          "base_uri": "https://localhost:8080/"
        },
        "id": "VIVCIet0isaE",
        "outputId": "dd16f79f-def9-4c65-d124-fc192e8341b5"
      },
      "outputs": [
        {
          "data": {
            "text/plain": [
              "array([0, 1, 2, 3, 4, 5, 6, 7, 8, 9])"
            ]
          },
          "execution_count": 4,
          "metadata": {
            "tags": []
          },
          "output_type": "execute_result"
        }
      ],
      "source": [
        "# Aqui podemos ver que ele criou um array com 10 elementos de 0 até 9.\n",
        "\n",
        "np.arange(10)"
      ]
    },
    {
      "cell_type": "markdown",
      "metadata": {
        "id": "_CRjIb3m1DZm"
      },
      "source": [
        "# Utilizando o *loadtxt* para utilizar um dado externo\n",
        "\n",
        "#### Para mais detalhes, acesse: https://numpy.org/doc/stable/reference/generated/numpy.loadtxt.html"
      ]
    },
    {
      "cell_type": "code",
      "execution_count": null,
      "metadata": {
        "colab": {
          "base_uri": "https://localhost:8080/",
          "height": 109,
          "resources": {
            "http://localhost:8080/nbextensions/google.colab/files.js": {
              "data": "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",
              "headers": [
                [
                  "content-type",
                  "application/javascript"
                ]
              ],
              "ok": true,
              "status": 200,
              "status_text": ""
            }
          }
        },
        "id": "1MTNBZOO0hHG",
        "outputId": "8786d88e-4b22-4474-9059-87dbf9768dfd"
      },
      "outputs": [
        {
          "data": {
            "text/html": [
              "\n",
              "     <input type=\"file\" id=\"files-ee8dbf57-4883-4362-af0b-a5feba35b78b\" name=\"files[]\" multiple disabled\n",
              "        style=\"border:none\" />\n",
              "     <output id=\"result-ee8dbf57-4883-4362-af0b-a5feba35b78b\">\n",
              "      Upload widget is only available when the cell has been executed in the\n",
              "      current browser session. Please rerun this cell to enable.\n",
              "      </output>\n",
              "      <script src=\"/nbextensions/google.colab/files.js\"></script> "
            ],
            "text/plain": [
              "<IPython.core.display.HTML object>"
            ]
          },
          "metadata": {
            "tags": []
          },
          "output_type": "display_data"
        },
        {
          "name": "stdout",
          "output_type": "stream",
          "text": [
            "Saving carros-km.txt to carros-km.txt\n"
          ]
        },
        {
          "data": {
            "text/plain": [
              "{'carros-km.txt': b'44410\\r\\n5712\\r\\n37123\\r\\n0\\r\\n25757\\r\\n10728\\r\\n0\\r\\n77599\\r\\n99197\\r\\n37978\\r\\n12859\\r\\n8052\\r\\n89773\\r\\n0\\r\\n41457\\r\\n115607\\r\\n46449\\r\\n0\\r\\n37086\\r\\n15173\\r\\n101193\\r\\n0\\r\\n98079\\r\\n102959\\r\\n0\\r\\n0\\r\\n5795\\r\\n0\\r\\n58848\\r\\n94381\\r\\n30163\\r\\n53332\\r\\n17720\\r\\n33808\\r\\n90684\\r\\n43975\\r\\n0\\r\\n0\\r\\n5526\\r\\n0\\r\\n93415\\r\\n40762\\r\\n0\\r\\n86302\\r\\n0\\r\\n9755\\r\\n69945\\r\\n2395\\r\\n0\\r\\n80349\\r\\n85554\\r\\n50496\\r\\n67716\\r\\n93947\\r\\n35345\\r\\n81007\\r\\n119513\\r\\n0\\r\\n0\\r\\n0\\r\\n0\\r\\n0\\r\\n118895\\r\\n48509\\r\\n100912\\r\\n95649\\r\\n0\\r\\n90495\\r\\n0\\r\\n29132\\r\\n23802\\r\\n84992\\r\\n54395\\r\\n26731\\r\\n44329\\r\\n118236\\r\\n113808\\r\\n610\\r\\n0\\r\\n0\\r\\n12887\\r\\n79607\\r\\n90924\\r\\n42733\\r\\n0\\r\\n0\\r\\n117714\\r\\n113885\\r\\n0\\r\\n30511\\r\\n74867\\r\\n119760\\r\\n8356\\r\\n64247\\r\\n88661\\r\\n4539\\r\\n110116\\r\\n33215\\r\\n92001\\r\\n0\\r\\n81708\\r\\n70641\\r\\n0\\r\\n91277\\r\\n26544\\r\\n52596\\r\\n47503\\r\\n89056\\r\\n28834\\r\\n110564\\r\\n56638\\r\\n17357\\r\\n74015\\r\\n15196\\r\\n0\\r\\n10821\\r\\n0\\r\\n0\\r\\n9595\\r\\n99052\\r\\n52389\\r\\n119945\\r\\n96005\\r\\n31639\\r\\n0\\r\\n80187\\r\\n0\\r\\n58212\\r\\n61672\\r\\n32017\\r\\n0\\r\\n56944\\r\\n0\\r\\n86519\\r\\n4821\\r\\n101025\\r\\n30705\\r\\n0\\r\\n32555\\r\\n103389\\r\\n0\\r\\n55289\\r\\n0\\r\\n0\\r\\n115930\\r\\n66437\\r\\n96800\\r\\n14237\\r\\n19896\\r\\n113045\\r\\n114942\\r\\n3173\\r\\n83611\\r\\n25356\\r\\n88634\\r\\n2314\\r\\n2627\\r\\n52034\\r\\n0\\r\\n0\\r\\n79577\\r\\n108201\\r\\n76453\\r\\n57683\\r\\n96610\\r\\n109001\\r\\n26212\\r\\n45971\\r\\n49182\\r\\n49907\\r\\n38620\\r\\n60996\\r\\n73914\\r\\n107392\\r\\n9146\\r\\n0\\r\\n17924\\r\\n0\\r\\n116949\\r\\n20476\\r\\n52804\\r\\n8849\\r\\n91724\\r\\n32056\\r\\n74886\\r\\n0\\r\\n0\\r\\n52189\\r\\n83559\\r\\n0\\r\\n20328\\r\\n0\\r\\n75577\\r\\n33659\\r\\n104341\\r\\n25510\\r\\n18965\\r\\n87161\\r\\n6652\\r\\n55738\\r\\n0\\r\\n0\\r\\n0\\r\\n64320\\r\\n0\\r\\n68678\\r\\n71697\\r\\n0\\r\\n34783\\r\\n33772\\r\\n85127\\r\\n13606\\r\\n35647\\r\\n95128\\r\\n14046\\r\\n41194\\r\\n0\\r\\n96100\\r\\n103900\\r\\n43814\\r\\n24638\\r\\n0\\r\\n110966\\r\\n15987\\r\\n53369\\r\\n10077\\r\\n71544\\r\\n107\\r\\n8394\\r\\n41498\\r\\n116002\\r\\n100858\\r\\n67475\\r\\n8497\\r\\n4420\\r\\n0\\r\\n58537\\r\\n0\\r\\n0\\r\\n112016\\r\\n91840\\r\\n112787\\r\\n0\\r\\n0\\r\\n9293\\r\\n0\\r\\n55083\\r\\n48796\\r\\n0\\r\\n89685\\r\\n85384\\r\\n98108\\r\\n71280\\r\\n27505\\r\\n29981\\r\\n52637\\r\\n7685\\r\\n50188\\r\\n'}"
            ]
          },
          "execution_count": 22,
          "metadata": {
            "tags": []
          },
          "output_type": "execute_result"
        }
      ],
      "source": [
        "# Para importar um arquivo para o google colaboratory, vamos utilizar o método 'files'\r\n",
        "# Este método está presente no pacote do google.colab\r\n",
        "\r\n",
        "#from google.colab import files\r\n",
        "\r\n",
        "#files.upload()"
      ]
    },
    {
      "cell_type": "code",
      "execution_count": null,
      "metadata": {
        "colab": {
          "base_uri": "https://localhost:8080/"
        },
        "id": "4CcHwrwx46hm",
        "outputId": "cc9a9ab8-d39c-4953-bf53-507f27260f29"
      },
      "outputs": [
        {
          "data": {
            "text/plain": [
              "array([ 44410,   5712,  37123,      0,  25757,  10728,      0,  77599,\n",
              "        99197,  37978,  12859,   8052,  89773,      0,  41457, 115607,\n",
              "        46449,      0,  37086,  15173, 101193,      0,  98079, 102959,\n",
              "            0,      0,   5795,      0,  58848,  94381,  30163,  53332,\n",
              "        17720,  33808,  90684,  43975,      0,      0,   5526,      0,\n",
              "        93415,  40762,      0,  86302,      0,   9755,  69945,   2395,\n",
              "            0,  80349,  85554,  50496,  67716,  93947,  35345,  81007,\n",
              "       119513,      0,      0,      0,      0,      0, 118895,  48509,\n",
              "       100912,  95649,      0,  90495,      0,  29132,  23802,  84992,\n",
              "        54395,  26731,  44329, 118236, 113808,    610,      0,      0,\n",
              "        12887,  79607,  90924,  42733,      0,      0, 117714, 113885,\n",
              "            0,  30511,  74867, 119760,   8356,  64247,  88661,   4539,\n",
              "       110116,  33215,  92001,      0,  81708,  70641,      0,  91277,\n",
              "        26544,  52596,  47503,  89056,  28834, 110564,  56638,  17357,\n",
              "        74015,  15196,      0,  10821,      0,      0,   9595,  99052,\n",
              "        52389, 119945,  96005,  31639,      0,  80187,      0,  58212,\n",
              "        61672,  32017,      0,  56944,      0,  86519,   4821, 101025,\n",
              "        30705,      0,  32555, 103389,      0,  55289,      0,      0,\n",
              "       115930,  66437,  96800,  14237,  19896, 113045, 114942,   3173,\n",
              "        83611,  25356,  88634,   2314,   2627,  52034,      0,      0,\n",
              "        79577, 108201,  76453,  57683,  96610, 109001,  26212,  45971,\n",
              "        49182,  49907,  38620,  60996,  73914, 107392,   9146,      0,\n",
              "        17924,      0, 116949,  20476,  52804,   8849,  91724,  32056,\n",
              "        74886,      0,      0,  52189,  83559,      0,  20328,      0,\n",
              "        75577,  33659, 104341,  25510,  18965,  87161,   6652,  55738,\n",
              "            0,      0,      0,  64320,      0,  68678,  71697,      0,\n",
              "        34783,  33772,  85127,  13606,  35647,  95128,  14046,  41194,\n",
              "            0,  96100, 103900,  43814,  24638,      0, 110966,  15987,\n",
              "        53369,  10077,  71544,    107,   8394,  41498, 116002, 100858,\n",
              "        67475,   8497,   4420,      0,  58537,      0,      0, 112016,\n",
              "        91840, 112787,      0,      0,   9293,      0,  55083,  48796,\n",
              "            0,  89685,  85384,  98108,  71280,  27505,  29981,  52637,\n",
              "         7685,  50188])"
            ]
          },
          "execution_count": 25,
          "metadata": {
            "tags": []
          },
          "output_type": "execute_result"
        }
      ],
      "source": [
        "# fname > Parâmetro que indica qual arquivo eu quero carregar.\n",
        "# dtype > informa o tipo da variável que queremos. \n",
        "# É importante definir o tipo. Por padrão, o numpay define o valor como float\n",
        "\n",
        "km = np.loadtxt(fname='carros-km.txt', dtype= int)\n",
        "km"
      ]
    },
    {
      "cell_type": "markdown",
      "metadata": {
        "id": "Xyaug5SeAQVb"
      },
      "source": [
        "# Comparando desempenho\n",
        "\n",
        "## numpy array   X   python list\n",
        "\n"
      ]
    },
    {
      "cell_type": "code",
      "execution_count": null,
      "metadata": {
        "id": "vgSBcXC-AK0U"
      },
      "outputs": [],
      "source": [
        "# Criando um array numpy com 1 milhão de elementos\n",
        "\n",
        "numpy_array = np.arange(1000000)"
      ]
    },
    {
      "cell_type": "code",
      "execution_count": null,
      "metadata": {
        "id": "C_VBZddOkfFe"
      },
      "outputs": [],
      "source": [
        "# Criando uma lista do python com 1 milhão de elementos\n",
        "\n",
        "python_list = list(range(1000000))"
      ]
    },
    {
      "cell_type": "code",
      "execution_count": null,
      "metadata": {
        "colab": {
          "base_uri": "https://localhost:8080/"
        },
        "id": "6Yf3gXbSkiuk",
        "outputId": "49df6c08-e91c-4220-a826-d5986319ede8"
      },
      "outputs": [
        {
          "name": "stdout",
          "output_type": "stream",
          "text": [
            "CPU times: user 83.6 ms, sys: 690 µs, total: 84.3 ms\n",
            "Wall time: 89 ms\n"
          ]
        }
      ],
      "source": [
        "# %time Calcula o tempode execução da linha de código\n",
        "\n",
        "%time for _ in range(100): numpy_array *= 2"
      ]
    },
    {
      "cell_type": "code",
      "execution_count": null,
      "metadata": {
        "colab": {
          "base_uri": "https://localhost:8080/"
        },
        "id": "5k70wXsdki1r",
        "outputId": "4bd28c2c-f6f5-407c-82fe-ff8d31c0e77c"
      },
      "outputs": [
        {
          "name": "stdout",
          "output_type": "stream",
          "text": [
            "CPU times: user 10.1 s, sys: 2.2 s, total: 12.3 s\n",
            "Wall time: 12.4 s\n"
          ]
        }
      ],
      "source": [
        "%time for _ in range(100): python_list = [x * 2 for x in python_list]"
      ]
    },
    {
      "cell_type": "markdown",
      "metadata": {
        "id": "pMdHvL5jl-f1"
      },
      "source": [
        "# Podemos ver que para trablhar com grandes quantidades de valores, o array do numpy é muito mais performático do que a lista do Python"
      ]
    },
    {
      "cell_type": "markdown",
      "metadata": {
        "id": "Qsy8C7X2ynaY"
      },
      "source": [
        "#### Para mais informações sobre arrays do numpy, acesse a documentação no link abaixo: https://numpy.org/devdocs/user/basics.creation.html"
      ]
    },
    {
      "cell_type": "markdown",
      "metadata": {
        "id": "6KGWvg-jyojp"
      },
      "source": [
        "# Operações com arrays"
      ]
    },
    {
      "cell_type": "code",
      "execution_count": 13,
      "metadata": {
        "id": "kP8xIK_Uyrfi"
      },
      "outputs": [],
      "source": [
        "# Abaixo temos duas listas. Uma possui valores de KM e o outro corresponde ao ano de fabricação de um veículo.\n",
        "\n",
        "km = [55511, 6813, 48234, 0, 36868]\n",
        "anos = [2004, 1992, 1991, 2019, 2008]"
      ]
    },
    {
      "cell_type": "code",
      "execution_count": 16,
      "metadata": {
        "colab": {
          "base_uri": "https://localhost:8080/"
        },
        "id": "DIt6f37ozPVh",
        "outputId": "11eeb71f-b438-4ea3-9027-009de66e1d18"
      },
      "outputs": [
        {
          "name": "stdout",
          "output_type": "stream",
          "text": [
            "A idade do veículo em 2021 é: 17 anos\n",
            "A idade do veículo em 2021 é: 29 anos\n",
            "A idade do veículo em 2021 é: 30 anos\n",
            "A idade do veículo em 2021 é: 2 anos\n",
            "A idade do veículo em 2021 é: 13 anos\n"
          ]
        }
      ],
      "source": [
        "# Vamos descobrir a aidade de cada veículo.\n",
        "\n",
        "# uma das formas de encontrar a idade de cada veículo utilizando uma lista do Python, é utilizando o for. \n",
        "\n",
        "for i in range(len(anos)):\n",
        "  print(f'A idade do veículo em 2021 é: {2021 - anos[i]} anos')"
      ]
    },
    {
      "cell_type": "code",
      "execution_count": 36,
      "metadata": {
        "id": "tOyvor401Mja"
      },
      "outputs": [],
      "source": [
        "# Agora vamos descobrir a idade dos veículos utilizando o array do numpy.\n",
        "\n",
        "km = np.array([55511, 6813, 48234, 15, 36868])\n",
        "anos = np.array([2004, 1992, 1991, 2019, 2008])"
      ]
    },
    {
      "cell_type": "code",
      "execution_count": 37,
      "metadata": {
        "colab": {
          "base_uri": "https://localhost:8080/"
        },
        "id": "WEltPeMf1mD4",
        "outputId": "2d9a86d8-fe94-4f51-c9db-f584ef4d1ef3"
      },
      "outputs": [
        {
          "data": {
            "text/plain": [
              "array([17, 29, 30,  2, 13])"
            ]
          },
          "execution_count": 37,
          "metadata": {
            "tags": []
          },
          "output_type": "execute_result"
        }
      ],
      "source": [
        "# Com o array do Numpy, a operação fica muito mais simples. Veja no exemplo.\n",
        "\n",
        "idade_do_veiculo = 2021 - anos\n",
        "idade_do_veiculo\n",
        "\n",
        "# Como podemos ver acima, a lista do Python não suporta, por exemplo, operações entre um inteiro e uma lista. \n",
        "# Por outro lado, o array do Numpy possui suporte para esse tipo de operação, facilitado e simplificado o código."
      ]
    },
    {
      "cell_type": "code",
      "execution_count": 51,
      "metadata": {
        "colab": {
          "base_uri": "https://localhost:8080/"
        },
        "id": "m9Z4MGig20y1",
        "outputId": "2ce3eb9b-58a7-4be1-f748-86dc22e1f160"
      },
      "outputs": [
        {
          "data": {
            "text/plain": [
              "array([3265.35,  234.93, 1607.8 ,    7.5 , 2836.  ])"
            ]
          },
          "execution_count": 51,
          "metadata": {
            "tags": []
          },
          "output_type": "execute_result"
        }
      ],
      "source": [
        "# Também é possível realizar operações entre os arrays do Numpy. Vamos descobrir a KM média dos veículos.\n",
        "\n",
        "km_media = (km / idade_do_veiculo).round(2)\n",
        "km_media"
      ]
    },
    {
      "cell_type": "code",
      "execution_count": 52,
      "metadata": {
        "colab": {
          "base_uri": "https://localhost:8080/"
        },
        "id": "Jti8wYMp4fm8",
        "outputId": "3ba50096-8f9e-4d1e-dd43-f340ba19258e"
      },
      "outputs": [
        {
          "name": "stdout",
          "output_type": "stream",
          "text": [
            "3265.35\n",
            "234.93\n",
            "1607.80\n",
            "7.50\n",
            "2836.00\n"
          ]
        }
      ],
      "source": [
        "# Para alcançar o mesmo resultado com a lista do Python, temos que pegar um caminho mais complexo.\n",
        "\n",
        "km_M = []\n",
        "idade_V = []\n",
        "\n",
        "for i in range(len(anos)):\n",
        "  idade_V.append(2021 - anos[i])\n",
        "for i in range(len(idade_V)):\n",
        "  print(f'{(km[i] / idade_V[i]):.2f}')\n"
      ]
    },
    {
      "cell_type": "markdown",
      "metadata": {
        "id": "hWS7PwJvv7zn"
      },
      "source": [
        "# Descobrindo o tipo de dado.\n",
        "\n",
        "#### utilizando o *type* podemos descobrir com qual tipo de dados estamos trabalhando"
      ]
    },
    {
      "cell_type": "code",
      "execution_count": null,
      "metadata": {
        "colab": {
          "base_uri": "https://localhost:8080/"
        },
        "id": "y62PXOc3vZqe",
        "outputId": "9888b737-365e-44c6-92d9-30a85ddba60a"
      },
      "outputs": [
        {
          "data": {
            "text/plain": [
              "numpy.ndarray"
            ]
          },
          "execution_count": 13,
          "metadata": {
            "tags": []
          },
          "output_type": "execute_result"
        }
      ],
      "source": [
        "type(km)"
      ]
    },
    {
      "cell_type": "code",
      "execution_count": null,
      "metadata": {
        "colab": {
          "base_uri": "https://localhost:8080/"
        },
        "id": "dU5PF_KUwHaN",
        "outputId": "640b58a2-9c67-44af-8875-a44311fa0034"
      },
      "outputs": [
        {
          "data": {
            "text/plain": [
              "int"
            ]
          },
          "execution_count": 14,
          "metadata": {
            "tags": []
          },
          "output_type": "execute_result"
        }
      ],
      "source": [
        "v = 5\n",
        "type(n)"
      ]
    },
    {
      "cell_type": "code",
      "execution_count": null,
      "metadata": {
        "colab": {
          "base_uri": "https://localhost:8080/"
        },
        "id": "soCJX9WtwTIN",
        "outputId": "b7392406-7742-4889-f2cc-ede3c86c3de8"
      },
      "outputs": [
        {
          "data": {
            "text/plain": [
              "float"
            ]
          },
          "execution_count": 15,
          "metadata": {
            "tags": []
          },
          "output_type": "execute_result"
        }
      ],
      "source": [
        "v1 = 2.5\n",
        "type(n1)"
      ]
    },
    {
      "cell_type": "code",
      "execution_count": null,
      "metadata": {
        "colab": {
          "base_uri": "https://localhost:8080/"
        },
        "id": "BOL6ywTZwnmS",
        "outputId": "410dc20c-3dac-44b0-d4df-1a623ce19a45"
      },
      "outputs": [
        {
          "data": {
            "text/plain": [
              "bool"
            ]
          },
          "execution_count": 16,
          "metadata": {
            "tags": []
          },
          "output_type": "execute_result"
        }
      ],
      "source": [
        "v3 = True\n",
        "type(n3)"
      ]
    },
    {
      "cell_type": "code",
      "execution_count": null,
      "metadata": {
        "colab": {
          "base_uri": "https://localhost:8080/"
        },
        "id": "uY6X4v0hwrKH",
        "outputId": "77a715bc-8efe-4cdc-ada7-b111d8f87e94"
      },
      "outputs": [
        {
          "data": {
            "text/plain": [
              "str"
            ]
          },
          "execution_count": 17,
          "metadata": {
            "tags": []
          },
          "output_type": "execute_result"
        }
      ],
      "source": [
        "v4 = 'olá'\n",
        "type(v4)"
      ]
    },
    {
      "cell_type": "code",
      "execution_count": null,
      "metadata": {
        "colab": {
          "base_uri": "https://localhost:8080/"
        },
        "id": "U14BZD_txOgu",
        "outputId": "7f695db1-193b-4494-ce32-40bb1e377687"
      },
      "outputs": [
        {
          "data": {
            "text/plain": [
              "dtype('int64')"
            ]
          },
          "execution_count": 19,
          "metadata": {
            "tags": []
          },
          "output_type": "execute_result"
        }
      ],
      "source": [
        "# Para visualizar qual o tipo de dado armazenado dentro de um array numpy, utilizamos o 'dtype'\n",
        "\n",
        "km.dtype"
      ]
    },
    {
      "cell_type": "markdown",
      "metadata": {
        "id": "EA4RQ9N8yK1H"
      },
      "source": [
        "#### Para mais informações sobre Tipos de dados, acesse a documentação no link: https://numpy.org/devdocs/user/basics.types.html"
      ]
    },
    {
      "cell_type": "code",
      "execution_count": null,
      "metadata": {
        "id": "27rhkAWExohK"
      },
      "outputs": [],
      "source": []
    }
  ],
  "metadata": {
    "colab": {
      "collapsed_sections": [],
      "name": "Python para Data Science - Introdução ao Numpy.ipynb",
      "provenance": []
    },
    "kernelspec": {
      "display_name": "Python 3",
      "name": "python3"
    },
    "language_info": {
      "name": "python"
    }
  },
  "nbformat": 4,
  "nbformat_minor": 0
}